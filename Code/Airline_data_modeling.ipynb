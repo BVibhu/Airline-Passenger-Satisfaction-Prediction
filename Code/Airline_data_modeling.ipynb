{
 "cells": [
  {
   "cell_type": "code",
   "execution_count": 1,
   "id": "5124b6b4",
   "metadata": {},
   "outputs": [],
   "source": [
    "import numpy as np\n",
    "import pandas as pd\n",
    "from IPython.display import Markdown, display\n",
    "\n",
    "%matplotlib inline\n",
    "import matplotlib.pyplot as plt\n",
    "import seaborn as sns\n",
    "from seaborn import diverging_palette\n",
    "\n",
    "import sklearn\n",
    "from sklearn.preprocessing import StandardScaler\n",
    "from sklearn.neural_network import MLPClassifier\n",
    "\n",
    "from sklearn.linear_model import (\n",
    "    LogisticRegression,\n",
    "    Lasso\n",
    ")\n",
    "\n",
    "from sklearn.model_selection import (\n",
    "    train_test_split,\n",
    "    cross_val_score,\n",
    "    cross_val_predict\n",
    ")\n",
    "\n",
    "from sklearn.metrics import (\n",
    "    accuracy_score, \n",
    "    precision_score, average_precision_score,\n",
    "    precision_recall_curve,\n",
    "    confusion_matrix, plot_confusion_matrix,\n",
    "    roc_curve, roc_auc_score,\n",
    "    classification_report\n",
    ")\n",
    "\n",
    "import warnings\n",
    "warnings.filterwarnings(\"ignore\")\n"
   ]
  },
  {
   "attachments": {},
   "cell_type": "markdown",
   "id": "84b5f526",
   "metadata": {},
   "source": [
    "# Load Dataset into DataFrame"
   ]
  },
  {
   "cell_type": "code",
   "execution_count": 2,
   "id": "889ab346",
   "metadata": {
    "scrolled": false
   },
   "outputs": [
    {
     "data": {
      "text/html": [
       "<div>\n",
       "<style scoped>\n",
       "    .dataframe tbody tr th:only-of-type {\n",
       "        vertical-align: middle;\n",
       "    }\n",
       "\n",
       "    .dataframe tbody tr th {\n",
       "        vertical-align: top;\n",
       "    }\n",
       "\n",
       "    .dataframe thead th {\n",
       "        text-align: right;\n",
       "    }\n",
       "</style>\n",
       "<table border=\"1\" class=\"dataframe\">\n",
       "  <thead>\n",
       "    <tr style=\"text-align: right;\">\n",
       "      <th></th>\n",
       "      <th>Age</th>\n",
       "      <th>Class</th>\n",
       "      <th>Flight_Distance</th>\n",
       "      <th>Inflight_wifi_service</th>\n",
       "      <th>Departure/Arrival_time_convenient</th>\n",
       "      <th>Ease_of_Online_booking</th>\n",
       "      <th>Gate_location</th>\n",
       "      <th>Food_and_drink</th>\n",
       "      <th>Online_boarding</th>\n",
       "      <th>Seat_comfort</th>\n",
       "      <th>...</th>\n",
       "      <th>Leg_room_service</th>\n",
       "      <th>Baggage_handling</th>\n",
       "      <th>Checkin_service</th>\n",
       "      <th>Inflight_service</th>\n",
       "      <th>Cleanliness</th>\n",
       "      <th>Departure_Delay_in_Minutes</th>\n",
       "      <th>satisfaction</th>\n",
       "      <th>Gender_Male</th>\n",
       "      <th>Customer_Type_Loyal Customer</th>\n",
       "      <th>Type_of_Travel_Business travel</th>\n",
       "    </tr>\n",
       "  </thead>\n",
       "  <tbody>\n",
       "    <tr>\n",
       "      <th>0</th>\n",
       "      <td>26.0</td>\n",
       "      <td>0.0</td>\n",
       "      <td>1142.0</td>\n",
       "      <td>2.0</td>\n",
       "      <td>2.0</td>\n",
       "      <td>2.0</td>\n",
       "      <td>2.0</td>\n",
       "      <td>5.0</td>\n",
       "      <td>5.0</td>\n",
       "      <td>5.0</td>\n",
       "      <td>...</td>\n",
       "      <td>3.0</td>\n",
       "      <td>4.0</td>\n",
       "      <td>4.0</td>\n",
       "      <td>4.0</td>\n",
       "      <td>5.0</td>\n",
       "      <td>0.0</td>\n",
       "      <td>1.0</td>\n",
       "      <td>0.0</td>\n",
       "      <td>1.0</td>\n",
       "      <td>1.0</td>\n",
       "    </tr>\n",
       "    <tr>\n",
       "      <th>1</th>\n",
       "      <td>61.0</td>\n",
       "      <td>0.0</td>\n",
       "      <td>214.0</td>\n",
       "      <td>3.0</td>\n",
       "      <td>3.0</td>\n",
       "      <td>3.0</td>\n",
       "      <td>3.0</td>\n",
       "      <td>4.0</td>\n",
       "      <td>5.0</td>\n",
       "      <td>5.0</td>\n",
       "      <td>...</td>\n",
       "      <td>4.0</td>\n",
       "      <td>4.0</td>\n",
       "      <td>3.0</td>\n",
       "      <td>3.0</td>\n",
       "      <td>3.0</td>\n",
       "      <td>0.0</td>\n",
       "      <td>1.0</td>\n",
       "      <td>1.0</td>\n",
       "      <td>1.0</td>\n",
       "      <td>1.0</td>\n",
       "    </tr>\n",
       "    <tr>\n",
       "      <th>2</th>\n",
       "      <td>47.0</td>\n",
       "      <td>2.0</td>\n",
       "      <td>1276.0</td>\n",
       "      <td>2.0</td>\n",
       "      <td>4.0</td>\n",
       "      <td>2.0</td>\n",
       "      <td>3.0</td>\n",
       "      <td>2.0</td>\n",
       "      <td>2.0</td>\n",
       "      <td>2.0</td>\n",
       "      <td>...</td>\n",
       "      <td>3.0</td>\n",
       "      <td>4.0</td>\n",
       "      <td>3.0</td>\n",
       "      <td>5.0</td>\n",
       "      <td>2.0</td>\n",
       "      <td>9.0</td>\n",
       "      <td>0.0</td>\n",
       "      <td>1.0</td>\n",
       "      <td>1.0</td>\n",
       "      <td>0.0</td>\n",
       "    </tr>\n",
       "    <tr>\n",
       "      <th>3</th>\n",
       "      <td>52.0</td>\n",
       "      <td>0.0</td>\n",
       "      <td>2035.0</td>\n",
       "      <td>4.0</td>\n",
       "      <td>3.0</td>\n",
       "      <td>4.0</td>\n",
       "      <td>4.0</td>\n",
       "      <td>5.0</td>\n",
       "      <td>5.0</td>\n",
       "      <td>5.0</td>\n",
       "      <td>...</td>\n",
       "      <td>5.0</td>\n",
       "      <td>5.0</td>\n",
       "      <td>4.0</td>\n",
       "      <td>5.0</td>\n",
       "      <td>4.0</td>\n",
       "      <td>4.0</td>\n",
       "      <td>1.0</td>\n",
       "      <td>0.0</td>\n",
       "      <td>1.0</td>\n",
       "      <td>1.0</td>\n",
       "    </tr>\n",
       "    <tr>\n",
       "      <th>4</th>\n",
       "      <td>20.0</td>\n",
       "      <td>2.0</td>\n",
       "      <td>1061.0</td>\n",
       "      <td>3.0</td>\n",
       "      <td>3.0</td>\n",
       "      <td>3.0</td>\n",
       "      <td>4.0</td>\n",
       "      <td>2.0</td>\n",
       "      <td>3.0</td>\n",
       "      <td>3.0</td>\n",
       "      <td>...</td>\n",
       "      <td>3.0</td>\n",
       "      <td>4.0</td>\n",
       "      <td>4.0</td>\n",
       "      <td>3.0</td>\n",
       "      <td>2.0</td>\n",
       "      <td>0.0</td>\n",
       "      <td>0.0</td>\n",
       "      <td>1.0</td>\n",
       "      <td>0.0</td>\n",
       "      <td>1.0</td>\n",
       "    </tr>\n",
       "    <tr>\n",
       "      <th>...</th>\n",
       "      <td>...</td>\n",
       "      <td>...</td>\n",
       "      <td>...</td>\n",
       "      <td>...</td>\n",
       "      <td>...</td>\n",
       "      <td>...</td>\n",
       "      <td>...</td>\n",
       "      <td>...</td>\n",
       "      <td>...</td>\n",
       "      <td>...</td>\n",
       "      <td>...</td>\n",
       "      <td>...</td>\n",
       "      <td>...</td>\n",
       "      <td>...</td>\n",
       "      <td>...</td>\n",
       "      <td>...</td>\n",
       "      <td>...</td>\n",
       "      <td>...</td>\n",
       "      <td>...</td>\n",
       "      <td>...</td>\n",
       "      <td>...</td>\n",
       "    </tr>\n",
       "    <tr>\n",
       "      <th>43954</th>\n",
       "      <td>26.0</td>\n",
       "      <td>0.0</td>\n",
       "      <td>712.0</td>\n",
       "      <td>4.0</td>\n",
       "      <td>4.0</td>\n",
       "      <td>4.0</td>\n",
       "      <td>4.0</td>\n",
       "      <td>5.0</td>\n",
       "      <td>5.0</td>\n",
       "      <td>5.0</td>\n",
       "      <td>...</td>\n",
       "      <td>4.0</td>\n",
       "      <td>4.0</td>\n",
       "      <td>3.0</td>\n",
       "      <td>4.0</td>\n",
       "      <td>5.0</td>\n",
       "      <td>17.0</td>\n",
       "      <td>1.0</td>\n",
       "      <td>1.0</td>\n",
       "      <td>1.0</td>\n",
       "      <td>1.0</td>\n",
       "    </tr>\n",
       "    <tr>\n",
       "      <th>43955</th>\n",
       "      <td>57.0</td>\n",
       "      <td>2.0</td>\n",
       "      <td>867.0</td>\n",
       "      <td>4.0</td>\n",
       "      <td>5.0</td>\n",
       "      <td>5.0</td>\n",
       "      <td>5.0</td>\n",
       "      <td>4.0</td>\n",
       "      <td>4.0</td>\n",
       "      <td>4.0</td>\n",
       "      <td>...</td>\n",
       "      <td>4.0</td>\n",
       "      <td>3.0</td>\n",
       "      <td>1.0</td>\n",
       "      <td>3.0</td>\n",
       "      <td>4.0</td>\n",
       "      <td>0.0</td>\n",
       "      <td>0.0</td>\n",
       "      <td>1.0</td>\n",
       "      <td>1.0</td>\n",
       "      <td>1.0</td>\n",
       "    </tr>\n",
       "    <tr>\n",
       "      <th>43956</th>\n",
       "      <td>60.0</td>\n",
       "      <td>0.0</td>\n",
       "      <td>1599.0</td>\n",
       "      <td>5.0</td>\n",
       "      <td>5.0</td>\n",
       "      <td>5.0</td>\n",
       "      <td>5.0</td>\n",
       "      <td>5.0</td>\n",
       "      <td>5.0</td>\n",
       "      <td>4.0</td>\n",
       "      <td>...</td>\n",
       "      <td>4.0</td>\n",
       "      <td>4.0</td>\n",
       "      <td>4.0</td>\n",
       "      <td>4.0</td>\n",
       "      <td>4.0</td>\n",
       "      <td>9.0</td>\n",
       "      <td>1.0</td>\n",
       "      <td>0.0</td>\n",
       "      <td>1.0</td>\n",
       "      <td>1.0</td>\n",
       "    </tr>\n",
       "    <tr>\n",
       "      <th>43957</th>\n",
       "      <td>50.0</td>\n",
       "      <td>2.0</td>\n",
       "      <td>1620.0</td>\n",
       "      <td>3.0</td>\n",
       "      <td>1.0</td>\n",
       "      <td>3.0</td>\n",
       "      <td>4.0</td>\n",
       "      <td>2.0</td>\n",
       "      <td>3.0</td>\n",
       "      <td>2.0</td>\n",
       "      <td>...</td>\n",
       "      <td>3.0</td>\n",
       "      <td>4.0</td>\n",
       "      <td>2.0</td>\n",
       "      <td>4.0</td>\n",
       "      <td>2.0</td>\n",
       "      <td>0.0</td>\n",
       "      <td>0.0</td>\n",
       "      <td>1.0</td>\n",
       "      <td>1.0</td>\n",
       "      <td>0.0</td>\n",
       "    </tr>\n",
       "    <tr>\n",
       "      <th>43958</th>\n",
       "      <td>49.0</td>\n",
       "      <td>0.0</td>\n",
       "      <td>2347.0</td>\n",
       "      <td>4.0</td>\n",
       "      <td>4.0</td>\n",
       "      <td>4.0</td>\n",
       "      <td>4.0</td>\n",
       "      <td>2.0</td>\n",
       "      <td>4.0</td>\n",
       "      <td>5.0</td>\n",
       "      <td>...</td>\n",
       "      <td>5.0</td>\n",
       "      <td>5.0</td>\n",
       "      <td>5.0</td>\n",
       "      <td>5.0</td>\n",
       "      <td>4.0</td>\n",
       "      <td>0.0</td>\n",
       "      <td>1.0</td>\n",
       "      <td>1.0</td>\n",
       "      <td>1.0</td>\n",
       "      <td>1.0</td>\n",
       "    </tr>\n",
       "  </tbody>\n",
       "</table>\n",
       "<p>43959 rows × 22 columns</p>\n",
       "</div>"
      ],
      "text/plain": [
       "        Age  Class  Flight_Distance  Inflight_wifi_service  \\\n",
       "0      26.0    0.0           1142.0                    2.0   \n",
       "1      61.0    0.0            214.0                    3.0   \n",
       "2      47.0    2.0           1276.0                    2.0   \n",
       "3      52.0    0.0           2035.0                    4.0   \n",
       "4      20.0    2.0           1061.0                    3.0   \n",
       "...     ...    ...              ...                    ...   \n",
       "43954  26.0    0.0            712.0                    4.0   \n",
       "43955  57.0    2.0            867.0                    4.0   \n",
       "43956  60.0    0.0           1599.0                    5.0   \n",
       "43957  50.0    2.0           1620.0                    3.0   \n",
       "43958  49.0    0.0           2347.0                    4.0   \n",
       "\n",
       "       Departure/Arrival_time_convenient  Ease_of_Online_booking  \\\n",
       "0                                    2.0                     2.0   \n",
       "1                                    3.0                     3.0   \n",
       "2                                    4.0                     2.0   \n",
       "3                                    3.0                     4.0   \n",
       "4                                    3.0                     3.0   \n",
       "...                                  ...                     ...   \n",
       "43954                                4.0                     4.0   \n",
       "43955                                5.0                     5.0   \n",
       "43956                                5.0                     5.0   \n",
       "43957                                1.0                     3.0   \n",
       "43958                                4.0                     4.0   \n",
       "\n",
       "       Gate_location  Food_and_drink  Online_boarding  Seat_comfort  ...  \\\n",
       "0                2.0             5.0              5.0           5.0  ...   \n",
       "1                3.0             4.0              5.0           5.0  ...   \n",
       "2                3.0             2.0              2.0           2.0  ...   \n",
       "3                4.0             5.0              5.0           5.0  ...   \n",
       "4                4.0             2.0              3.0           3.0  ...   \n",
       "...              ...             ...              ...           ...  ...   \n",
       "43954            4.0             5.0              5.0           5.0  ...   \n",
       "43955            5.0             4.0              4.0           4.0  ...   \n",
       "43956            5.0             5.0              5.0           4.0  ...   \n",
       "43957            4.0             2.0              3.0           2.0  ...   \n",
       "43958            4.0             2.0              4.0           5.0  ...   \n",
       "\n",
       "       Leg_room_service  Baggage_handling  Checkin_service  Inflight_service  \\\n",
       "0                   3.0               4.0              4.0               4.0   \n",
       "1                   4.0               4.0              3.0               3.0   \n",
       "2                   3.0               4.0              3.0               5.0   \n",
       "3                   5.0               5.0              4.0               5.0   \n",
       "4                   3.0               4.0              4.0               3.0   \n",
       "...                 ...               ...              ...               ...   \n",
       "43954               4.0               4.0              3.0               4.0   \n",
       "43955               4.0               3.0              1.0               3.0   \n",
       "43956               4.0               4.0              4.0               4.0   \n",
       "43957               3.0               4.0              2.0               4.0   \n",
       "43958               5.0               5.0              5.0               5.0   \n",
       "\n",
       "       Cleanliness  Departure_Delay_in_Minutes  satisfaction  Gender_Male  \\\n",
       "0              5.0                         0.0           1.0          0.0   \n",
       "1              3.0                         0.0           1.0          1.0   \n",
       "2              2.0                         9.0           0.0          1.0   \n",
       "3              4.0                         4.0           1.0          0.0   \n",
       "4              2.0                         0.0           0.0          1.0   \n",
       "...            ...                         ...           ...          ...   \n",
       "43954          5.0                        17.0           1.0          1.0   \n",
       "43955          4.0                         0.0           0.0          1.0   \n",
       "43956          4.0                         9.0           1.0          0.0   \n",
       "43957          2.0                         0.0           0.0          1.0   \n",
       "43958          4.0                         0.0           1.0          1.0   \n",
       "\n",
       "       Customer_Type_Loyal Customer  Type_of_Travel_Business travel  \n",
       "0                               1.0                             1.0  \n",
       "1                               1.0                             1.0  \n",
       "2                               1.0                             0.0  \n",
       "3                               1.0                             1.0  \n",
       "4                               0.0                             1.0  \n",
       "...                             ...                             ...  \n",
       "43954                           1.0                             1.0  \n",
       "43955                           1.0                             1.0  \n",
       "43956                           1.0                             1.0  \n",
       "43957                           1.0                             0.0  \n",
       "43958                           1.0                             1.0  \n",
       "\n",
       "[43959 rows x 22 columns]"
      ]
     },
     "execution_count": 2,
     "metadata": {},
     "output_type": "execute_result"
    }
   ],
   "source": [
    "url = 'https://raw.githubusercontent.com/McGill-MMA-EnterpriseAnalytics/Airline-Passenger-Satisfaction-Prediction/main/Data/df5.csv'\n",
    "data = pd.read_csv(url)\n",
    "data"
   ]
  },
  {
   "attachments": {},
   "cell_type": "markdown",
   "id": "68bc2905",
   "metadata": {},
   "source": [
    "# Data Preparation"
   ]
  },
  {
   "cell_type": "markdown",
   "id": "272a2504",
   "metadata": {},
   "source": [
    "## Standardization of numeric variables"
   ]
  },
  {
   "cell_type": "code",
   "execution_count": 3,
   "id": "610e2a95",
   "metadata": {},
   "outputs": [],
   "source": [
    "numeric_cols = ['Age', 'Flight_Distance','Departure_Delay_in_Minutes']\n",
    "scaler = StandardScaler()\n",
    "data[numeric_cols] = scaler.fit_transform(data[numeric_cols])"
   ]
  },
  {
   "attachments": {},
   "cell_type": "markdown",
   "id": "4da7509e",
   "metadata": {},
   "source": [
    "## Turn 0 (not rated) into binary variables \n",
    "\n",
    "The satisfaction level of each feature should range from 1 to 5. \n",
    "\n",
    "If the rating is 0, that means the customer did not rate for this feature.\n",
    "\n",
    "We convert such value into binary column to indicate if certain features was rated by the customer or not.\n"
   ]
  },
  {
   "cell_type": "code",
   "execution_count": 4,
   "id": "5bda5eb3",
   "metadata": {},
   "outputs": [],
   "source": [
    "def list_column_values(df, number_of_values, print_all):\n",
    "    display(Markdown('**Results:**' ))\n",
    "    for col in df.columns[0:]:\n",
    "        if df[col].nunique() <= number_of_values:\n",
    "            print(f\"{col.ljust(25)}\" +  ' ==> ' + str(df[col].sort_values().unique().tolist()) )\n",
    "        else:  \n",
    "            if print_all=='True':\n",
    "               print(f\"{col.ljust(25)}\" + ' ==> more than ' + str(number_of_values) + ' values')"
   ]
  },
  {
   "cell_type": "code",
   "execution_count": 5,
   "id": "35de1bb2",
   "metadata": {},
   "outputs": [
    {
     "data": {
      "text/markdown": [
       "**Results:**"
      ],
      "text/plain": [
       "<IPython.core.display.Markdown object>"
      ]
     },
     "metadata": {},
     "output_type": "display_data"
    },
    {
     "name": "stdout",
     "output_type": "stream",
     "text": [
      "Age                       ==> more than 22 values\n",
      "Class                     ==> [0.0, 1.0, 2.0]\n",
      "Flight_Distance           ==> more than 22 values\n",
      "Inflight_wifi_service     ==> [0.0, 1.0, 2.0, 3.0, 4.0, 5.0]\n",
      "Departure/Arrival_time_convenient ==> [0.0, 1.0, 2.0, 3.0, 4.0, 5.0]\n",
      "Ease_of_Online_booking    ==> [0.0, 1.0, 2.0, 3.0, 4.0, 5.0]\n",
      "Gate_location             ==> [1.0, 2.0, 3.0, 4.0, 5.0]\n",
      "Food_and_drink            ==> [1.0, 2.0, 3.0, 4.0, 5.0]\n",
      "Online_boarding           ==> [0.0, 1.0, 2.0, 3.0, 4.0, 5.0]\n",
      "Seat_comfort              ==> [1.0, 2.0, 3.0, 4.0, 5.0]\n",
      "Inflight_entertainment    ==> [1.0, 2.0, 3.0, 4.0, 5.0]\n",
      "On-board_service          ==> [1.0, 2.0, 3.0, 4.0, 5.0]\n",
      "Leg_room_service          ==> [0.0, 1.0, 2.0, 3.0, 4.0, 5.0]\n",
      "Baggage_handling          ==> [1.0, 2.0, 3.0, 4.0, 5.0]\n",
      "Checkin_service           ==> [1.0, 2.0, 3.0, 4.0, 5.0]\n",
      "Inflight_service          ==> [1.0, 2.0, 3.0, 4.0, 5.0]\n",
      "Cleanliness               ==> [1.0, 2.0, 3.0, 4.0, 5.0]\n",
      "Departure_Delay_in_Minutes ==> more than 22 values\n",
      "satisfaction              ==> [0.0, 1.0]\n",
      "Gender_Male               ==> [0.0, 1.0]\n",
      "Customer_Type_Loyal Customer ==> [0.0, 1.0]\n",
      "Type_of_Travel_Business travel ==> [0.0, 1.0]\n"
     ]
    }
   ],
   "source": [
    "list_column_values(data, data.shape[1],'True')"
   ]
  },
  {
   "cell_type": "code",
   "execution_count": 31,
   "id": "4346b8c5",
   "metadata": {},
   "outputs": [
    {
     "data": {
      "text/plain": [
       "Inflight_wifi_service                 67\n",
       "Departure/Arrival_time_convenient    134\n",
       "Ease_of_Online_booking                58\n",
       "Online_boarding                       16\n",
       "Leg_room_service                       1\n",
       "dtype: int64"
      ]
     },
     "execution_count": 31,
     "metadata": {},
     "output_type": "execute_result"
    }
   ],
   "source": [
    "incomplete = ['Inflight_wifi_service','Departure/Arrival_time_convenient',\n",
    "              'Ease_of_Online_booking','Online_boarding','Leg_room_service']\n",
    "(data[incomplete] == 0).sum()"
   ]
  },
  {
   "attachments": {},
   "cell_type": "markdown",
   "id": "7bc116a3",
   "metadata": {},
   "source": [
    "<span style='color:red'> <b> We should consider these rows as missing values. </b> </span>\n",
    "\n",
    "Two ways to handle it:\n",
    "1. add dummy col\n",
    "2. impute\n"
   ]
  },
  {
   "cell_type": "code",
   "execution_count": 6,
   "id": "836e6919",
   "metadata": {},
   "outputs": [],
   "source": [
    "# baggage headling do not have any 0 values\n",
    "dummy_cols = {'Inflight_wifi_service_0': ['Inflight_wifi_service'], \n",
    "              'Departure/Arrival_time_convenient_0': ['Departure/Arrival_time_convenient'],\n",
    "              'Ease_of_Online_booking_0': ['Ease_of_Online_booking'],\n",
    "              'Online_boarding_0': ['Online_boarding'],\n",
    "              'Leg_room_service_0': ['Leg_room_service']}\n",
    "              \n",
    "# Loop through each set of columns and create the new dummy variable\n",
    "for dummy_col, cols_to_check in dummy_cols.items():\n",
    "    data[dummy_col] = (data[cols_to_check] == 0).all(axis=1).astype(int)"
   ]
  },
  {
   "attachments": {},
   "cell_type": "markdown",
   "id": "b4db6c49",
   "metadata": {},
   "source": [
    "# Splitting the Dataset"
   ]
  },
  {
   "cell_type": "markdown",
   "id": "4336ffd8",
   "metadata": {},
   "source": [
    "Identify features and target"
   ]
  },
  {
   "cell_type": "code",
   "execution_count": 7,
   "id": "2e362646",
   "metadata": {},
   "outputs": [],
   "source": [
    "X = data.drop(columns=['satisfaction'])\n",
    "y = data['satisfaction']"
   ]
  },
  {
   "attachments": {},
   "cell_type": "markdown",
   "id": "c44f43f7",
   "metadata": {},
   "source": [
    "## Train Test Split"
   ]
  },
  {
   "cell_type": "code",
   "execution_count": 8,
   "id": "8f58f380",
   "metadata": {},
   "outputs": [
    {
     "data": {
      "text/plain": [
       "(35167, 8792)"
      ]
     },
     "execution_count": 8,
     "metadata": {},
     "output_type": "execute_result"
    }
   ],
   "source": [
    "X_train, X_val_test, y_train, y_val_test = train_test_split(X, y, test_size = 0.2, random_state = 777)\n",
    "\n",
    "N_train, _ = X_train.shape \n",
    "N_val_test,  _ = X_val_test.shape \n",
    "\n",
    "N_train, N_val_test"
   ]
  },
  {
   "attachments": {},
   "cell_type": "markdown",
   "id": "4a19a1cb",
   "metadata": {},
   "source": [
    "## Test Validation Split"
   ]
  },
  {
   "cell_type": "code",
   "execution_count": 9,
   "id": "df88018f",
   "metadata": {},
   "outputs": [
    {
     "data": {
      "text/plain": [
       "(4396, 4396)"
      ]
     },
     "execution_count": 9,
     "metadata": {},
     "output_type": "execute_result"
    }
   ],
   "source": [
    "X_val, X_test, y_val, y_test = train_test_split(X_val_test, y_val_test, test_size = 0.5, random_state = 777)\n",
    "\n",
    "N_val, _ = X_val.shape \n",
    "N_test,  _ = X_test.shape \n",
    "\n",
    "N_val, N_test"
   ]
  },
  {
   "cell_type": "code",
   "execution_count": 10,
   "id": "35f060cb",
   "metadata": {},
   "outputs": [
    {
     "data": {
      "text/plain": [
       "Index(['Age', 'Class', 'Flight_Distance', 'Inflight_wifi_service',\n",
       "       'Departure/Arrival_time_convenient', 'Ease_of_Online_booking',\n",
       "       'Gate_location', 'Food_and_drink', 'Online_boarding', 'Seat_comfort',\n",
       "       'Inflight_entertainment', 'On-board_service', 'Leg_room_service',\n",
       "       'Baggage_handling', 'Checkin_service', 'Inflight_service',\n",
       "       'Cleanliness', 'Departure_Delay_in_Minutes', 'satisfaction',\n",
       "       'Gender_Male', 'Customer_Type_Loyal Customer',\n",
       "       'Type_of_Travel_Business travel', 'Inflight_wifi_service_0',\n",
       "       'Departure/Arrival_time_convenient_0', 'Ease_of_Online_booking_0',\n",
       "       'Online_boarding_0', 'Leg_room_service_0'],\n",
       "      dtype='object')"
      ]
     },
     "execution_count": 10,
     "metadata": {},
     "output_type": "execute_result"
    }
   ],
   "source": [
    "data.columns"
   ]
  },
  {
   "attachments": {},
   "cell_type": "markdown",
   "id": "2061c833",
   "metadata": {},
   "source": [
    "# Functions for Evaluation Metrics"
   ]
  },
  {
   "cell_type": "markdown",
   "id": "05b72e35",
   "metadata": {},
   "source": [
    "### ROC Curve"
   ]
  },
  {
   "cell_type": "code",
   "execution_count": 11,
   "id": "a59a5016",
   "metadata": {},
   "outputs": [],
   "source": [
    "def plot_roc_curve(fpr, tpr, roc_auc):\n",
    "    plt.title('Receiver Operating Characteristic')\n",
    "    plt.plot(fpr, tpr, 'b', label = 'AUC = %0.2f' % roc_auc)\n",
    "    plt.legend(loc = 'lower right')\n",
    "    plt.plot([0, 1], [0, 1],'r--')\n",
    "    plt.xlim([0, 1])\n",
    "    plt.ylim([0, 1])\n",
    "    plt.ylabel('True Positive Rate')\n",
    "    plt.xlabel('False Positive Rate')\n",
    "    plt.show()"
   ]
  },
  {
   "cell_type": "markdown",
   "id": "04a1ecf1",
   "metadata": {},
   "source": [
    "### PR Curve"
   ]
  },
  {
   "cell_type": "code",
   "execution_count": 12,
   "id": "e774ce0f",
   "metadata": {},
   "outputs": [],
   "source": [
    "def plot_pr_curve(precision, recall, average_precision):\n",
    "    plt.step(recall, precision, color='b', alpha=0.2, where='post')\n",
    "    plt.fill_between(recall, precision, step='post', alpha=0.2, color='b')   \n",
    "    plt.xlabel('Recall')\n",
    "    plt.ylabel('Precision')\n",
    "    plt.ylim([0.0, 1.05])\n",
    "    plt.xlim([0.0, 1.0])\n",
    "    plt.title('2-class Precision-Recall curve: AP={0:0.2f}'.format(average_precision))\n",
    "    plt.show()"
   ]
  },
  {
   "cell_type": "markdown",
   "id": "1939017b",
   "metadata": {},
   "source": [
    "### Classification Score\n",
    "\n",
    "It gets the model and evaluates it for training and validation."
   ]
  },
  {
   "cell_type": "code",
   "execution_count": 13,
   "id": "67012e47",
   "metadata": {},
   "outputs": [],
   "source": [
    "def clf_score(clf, X_train, y_train, X_val, y_val, train=True):\n",
    "    if train:\n",
    "        print(\"Train Result:\\n\")\n",
    "        print(\"accuracy score: {0:.4f}\\n\".format(accuracy_score(y_train, clf.predict(X_train))))\n",
    "        print(\"Classification Report: \\n {}\\n\".format(classification_report(y_train, clf.predict(X_train))))\n",
    "        print(\"Confusion Matrix: \\n {}\\n\".format(confusion_matrix(y_train, clf.predict(X_train))))\n",
    "\n",
    "        res = cross_val_score(clf, X_train, y_train, cv=10, scoring='accuracy')\n",
    "        print(\"Average Accuracy: \\t {0:.4f}\".format(np.mean(res)))\n",
    "        print(\"Accuracy SD: \\t\\t {0:.4f}\".format(np.std(res)))\n",
    "\n",
    "    elif train == False:\n",
    "        print(\"Validation Result:\\n\")\n",
    "        print(\"accuracy score: {0:.4f}\\n\".format(accuracy_score(y_val, clf.predict(X_val))))\n",
    "        \n",
    "        precision, recall, _ = precision_recall_curve(y_val, clf.predict(X_val))\n",
    "        average_precision = average_precision_score(y_val, clf.predict(X_val))\n",
    "        plot_pr_curve(precision, recall, average_precision)\n",
    "        \n",
    "        fpr, tpr, _ = roc_curve(y_val, clf.predict(X_val))\n",
    "        roc_auc = roc_auc_score(y_val, clf.predict(X_val))\n",
    "        print(\"roc auc score: {}\\n\".format(roc_auc))\n",
    "        plot_roc_curve(fpr, tpr, roc_auc)\n",
    "        \n",
    "        print(\"Classification Report: \\n {}\\n\".format(classification_report(y_val, clf.predict(X_val))))\n",
    "        print(\"Confusion Matrix: \\n {}\\n\".format(confusion_matrix(y_val, clf.predict(X_val))))\n",
    "        plot_confusion_matrix(clf,  X_val, clf.predict(X_val))\n",
    "        print(\"End of validation Result\\n\")"
   ]
  },
  {
   "attachments": {},
   "cell_type": "markdown",
   "id": "7db6c624",
   "metadata": {},
   "source": [
    "### Model Results Comparison"
   ]
  },
  {
   "cell_type": "code",
   "execution_count": 14,
   "id": "710850ea",
   "metadata": {},
   "outputs": [],
   "source": [
    "model_comparison = pd.DataFrame(columns=['precision','recall','f1-score','support'])\n",
    "\n",
    "def add_result(model_name, y_actual, y_pred):\n",
    "    global model_comparison\n",
    "\n",
    "    report = classification_report(y_actual, y_pred, output_dict=True)\n",
    "    scores = pd.DataFrame(report['1.0'],index=[model_name])\n",
    "\n",
    "    model_comparison = model_comparison.append(scores)\n",
    "    \n",
    "    print(model_comparison)"
   ]
  },
  {
   "attachments": {},
   "cell_type": "markdown",
   "id": "0f5f20c7",
   "metadata": {},
   "source": [
    "# Verify Class Balance"
   ]
  },
  {
   "cell_type": "code",
   "execution_count": 15,
   "id": "f5eba9b7",
   "metadata": {},
   "outputs": [
    {
     "data": {
      "text/plain": [
       "1.0    23995\n",
       "0.0    19964\n",
       "Name: satisfaction, dtype: int64"
      ]
     },
     "execution_count": 15,
     "metadata": {},
     "output_type": "execute_result"
    }
   ],
   "source": [
    "data['satisfaction'].value_counts()"
   ]
  },
  {
   "cell_type": "code",
   "execution_count": 16,
   "id": "e7cedad2",
   "metadata": {},
   "outputs": [
    {
     "data": {
      "image/png": "[encoded data removed]",
      "text/plain": [
       "<Figure size 800x550 with 1 Axes>"
      ]
     },
     "metadata": {},
     "output_type": "display_data"
    },
    {
     "data": {
      "text/plain": [
       "<AxesSubplot: title={'center': 'Class Balance for 39,563 Instances'}, ylabel='support'>"
      ]
     },
     "execution_count": 16,
     "metadata": {},
     "output_type": "execute_result"
    }
   ],
   "source": [
    "from yellowbrick.target import ClassBalance\n",
    "\n",
    "# Instantiate the visualizer\n",
    "visualizer = ClassBalance(labels=[\"0\", \"1\"])\n",
    "\n",
    "visualizer.fit(y_train, y_val)        # Fit the data to the visualizer\n",
    "visualizer.show()        # Finalize and render the figure"
   ]
  },
  {
   "attachments": {},
   "cell_type": "markdown",
   "id": "7d078923",
   "metadata": {},
   "source": [
    "# Modelling\n",
    "\n",
    "Baseline Model - DummyClassifier ✔\n",
    "\n",
    "==========================\n",
    "\n",
    "Feature Selection \n",
    "- LASSO (prefered)\n",
    "- RFE\n",
    "\n",
    "=====================\n",
    "\n",
    "Regression:\n",
    "- Logistics Regression\n",
    "\n",
    "Neighbors:\n",
    "- KNN\n",
    "\n",
    "Naive Bayes:\n",
    "- Gaussian\n",
    "\n",
    "Ensemble Methods:\n",
    "- Decision Tree\n",
    "- Random Forest\n",
    "\n",
    "===========================\n",
    "- AdsBoost\n",
    "- CatBoost\n",
    "- Gradient Boosting\n",
    "- Stacked generalization\n",
    "\n",
    "Neural Nets:\n",
    "- SVM\n",
    "- Multi Layer Perception\n",
    "- AdaNet"
   ]
  },
  {
   "attachments": {},
   "cell_type": "markdown",
   "id": "1600a364",
   "metadata": {},
   "source": [
    "## Baseline Model - DummyClassifier"
   ]
  },
  {
   "cell_type": "code",
   "execution_count": 17,
   "id": "9a329186",
   "metadata": {},
   "outputs": [
    {
     "data": {
      "text/plain": [
       "DummyClassifier()"
      ]
     },
     "execution_count": 17,
     "metadata": {},
     "output_type": "execute_result"
    }
   ],
   "source": [
    "from sklearn.dummy import DummyClassifier\n",
    "\n",
    "dummy = DummyClassifier()\n",
    "dummy.fit(X_train,y_train)"
   ]
  },
  {
   "cell_type": "code",
   "execution_count": 18,
   "id": "2d51f0a1",
   "metadata": {},
   "outputs": [
    {
     "name": "stdout",
     "output_type": "stream",
     "text": [
      "Validation Result:\n",
      "\n",
      "accuracy score: 0.5366\n",
      "\n"
     ]
    },
    {
     "data": {
      "image/png": "[encoded data removed]",
      "text/plain": [
       "<Figure size 800x550 with 1 Axes>"
      ]
     },
     "metadata": {},
     "output_type": "display_data"
    },
    {
     "name": "stdout",
     "output_type": "stream",
     "text": [
      "roc auc score: 0.5\n",
      "\n"
     ]
    },
    {
     "data": {
      "image/png": "[encoded data removed]",
      "text/plain": [
       "<Figure size 800x550 with 1 Axes>"
      ]
     },
     "metadata": {},
     "output_type": "display_data"
    },
    {
     "name": "stdout",
     "output_type": "stream",
     "text": [
      "Classification Report: \n",
      "               precision    recall  f1-score   support\n",
      "\n",
      "         0.0       0.00      0.00      0.00      2037\n",
      "         1.0       0.54      1.00      0.70      2359\n",
      "\n",
      "    accuracy                           0.54      4396\n",
      "   macro avg       0.27      0.50      0.35      4396\n",
      "weighted avg       0.29      0.54      0.37      4396\n",
      "\n",
      "\n",
      "Confusion Matrix: \n",
      " [[   0 2037]\n",
      " [   0 2359]]\n",
      "\n",
      "End of validation Result\n",
      "\n"
     ]
    },
    {
     "data": {
      "image/png": "[encoded data removed]",
      "text/plain": [
       "<Figure size 800x550 with 2 Axes>"
      ]
     },
     "metadata": {},
     "output_type": "display_data"
    }
   ],
   "source": [
    "clf_score(dummy, X_train, y_train, X_val, y_val, train=False)"
   ]
  },
  {
   "cell_type": "code",
   "execution_count": 19,
   "id": "7f8ca5ae",
   "metadata": {},
   "outputs": [
    {
     "name": "stdout",
     "output_type": "stream",
     "text": [
      "                 precision  recall  f1-score support\n",
      "DummyClassifier   0.536624     1.0  0.698446    2359\n"
     ]
    }
   ],
   "source": [
    "# Add result to model_comparison dataframe\n",
    "model_name = 'DummyClassifier'\n",
    "y_pred = dummy.predict(X_val)\n",
    "\n",
    "add_result(model_name, y_val, y_pred)"
   ]
  },
  {
   "attachments": {},
   "cell_type": "markdown",
   "id": "2c5c453a",
   "metadata": {},
   "source": [
    "## Feature Selection"
   ]
  },
  {
   "attachments": {},
   "cell_type": "markdown",
   "id": "a2fed97f",
   "metadata": {},
   "source": [
    "### 1. LASSO"
   ]
  },
  {
   "cell_type": "code",
   "execution_count": 20,
   "id": "90a1360b",
   "metadata": {},
   "outputs": [],
   "source": [
    "lasso = Lasso(alpha=0.01)\n",
    "model_lasso = lasso.fit(X_train, y_train)"
   ]
  },
  {
   "cell_type": "code",
   "execution_count": 21,
   "id": "2198bc55",
   "metadata": {},
   "outputs": [
    {
     "data": {
      "text/plain": [
       "array([ 0.0028595 , -0.13652583,  0.01307159,  0.        , -0.00768869,\n",
       "       -0.        ,  0.00308803, -0.        ,  0.09802086,  0.03320215,\n",
       "        0.02738485,  0.04222833,  0.03874611,  0.02498011,  0.03505258,\n",
       "        0.01838407,  0.0308277 , -0.00324291,  0.        ,  0.08463068,\n",
       "        0.21443312,  0.        , -0.        ,  0.        ,  0.        ,\n",
       "        0.        ])"
      ]
     },
     "execution_count": 21,
     "metadata": {},
     "output_type": "execute_result"
    }
   ],
   "source": [
    "model_lasso.coef_"
   ]
  },
  {
   "cell_type": "code",
   "execution_count": 22,
   "id": "4822a29e",
   "metadata": {},
   "outputs": [
    {
     "data": {
      "text/html": [
       "<div>\n",
       "<style scoped>\n",
       "    .dataframe tbody tr th:only-of-type {\n",
       "        vertical-align: middle;\n",
       "    }\n",
       "\n",
       "    .dataframe tbody tr th {\n",
       "        vertical-align: top;\n",
       "    }\n",
       "\n",
       "    .dataframe thead th {\n",
       "        text-align: right;\n",
       "    }\n",
       "</style>\n",
       "<table border=\"1\" class=\"dataframe\">\n",
       "  <thead>\n",
       "    <tr style=\"text-align: right;\">\n",
       "      <th></th>\n",
       "      <th>predictor</th>\n",
       "      <th>coefficient</th>\n",
       "    </tr>\n",
       "  </thead>\n",
       "  <tbody>\n",
       "    <tr>\n",
       "      <th>0</th>\n",
       "      <td>Age</td>\n",
       "      <td>0.002859</td>\n",
       "    </tr>\n",
       "    <tr>\n",
       "      <th>1</th>\n",
       "      <td>Class</td>\n",
       "      <td>-0.136526</td>\n",
       "    </tr>\n",
       "    <tr>\n",
       "      <th>2</th>\n",
       "      <td>Flight_Distance</td>\n",
       "      <td>0.013072</td>\n",
       "    </tr>\n",
       "    <tr>\n",
       "      <th>3</th>\n",
       "      <td>Inflight_wifi_service</td>\n",
       "      <td>0.000000</td>\n",
       "    </tr>\n",
       "    <tr>\n",
       "      <th>4</th>\n",
       "      <td>Departure/Arrival_time_convenient</td>\n",
       "      <td>-0.007689</td>\n",
       "    </tr>\n",
       "    <tr>\n",
       "      <th>5</th>\n",
       "      <td>Ease_of_Online_booking</td>\n",
       "      <td>-0.000000</td>\n",
       "    </tr>\n",
       "    <tr>\n",
       "      <th>6</th>\n",
       "      <td>Gate_location</td>\n",
       "      <td>0.003088</td>\n",
       "    </tr>\n",
       "    <tr>\n",
       "      <th>7</th>\n",
       "      <td>Food_and_drink</td>\n",
       "      <td>-0.000000</td>\n",
       "    </tr>\n",
       "    <tr>\n",
       "      <th>8</th>\n",
       "      <td>Online_boarding</td>\n",
       "      <td>0.098021</td>\n",
       "    </tr>\n",
       "    <tr>\n",
       "      <th>9</th>\n",
       "      <td>Seat_comfort</td>\n",
       "      <td>0.033202</td>\n",
       "    </tr>\n",
       "    <tr>\n",
       "      <th>10</th>\n",
       "      <td>Inflight_entertainment</td>\n",
       "      <td>0.027385</td>\n",
       "    </tr>\n",
       "    <tr>\n",
       "      <th>11</th>\n",
       "      <td>On-board_service</td>\n",
       "      <td>0.042228</td>\n",
       "    </tr>\n",
       "    <tr>\n",
       "      <th>12</th>\n",
       "      <td>Leg_room_service</td>\n",
       "      <td>0.038746</td>\n",
       "    </tr>\n",
       "    <tr>\n",
       "      <th>13</th>\n",
       "      <td>Baggage_handling</td>\n",
       "      <td>0.024980</td>\n",
       "    </tr>\n",
       "    <tr>\n",
       "      <th>14</th>\n",
       "      <td>Checkin_service</td>\n",
       "      <td>0.035053</td>\n",
       "    </tr>\n",
       "    <tr>\n",
       "      <th>15</th>\n",
       "      <td>Inflight_service</td>\n",
       "      <td>0.018384</td>\n",
       "    </tr>\n",
       "    <tr>\n",
       "      <th>16</th>\n",
       "      <td>Cleanliness</td>\n",
       "      <td>0.030828</td>\n",
       "    </tr>\n",
       "    <tr>\n",
       "      <th>17</th>\n",
       "      <td>Departure_Delay_in_Minutes</td>\n",
       "      <td>-0.003243</td>\n",
       "    </tr>\n",
       "    <tr>\n",
       "      <th>18</th>\n",
       "      <td>Gender_Male</td>\n",
       "      <td>0.000000</td>\n",
       "    </tr>\n",
       "    <tr>\n",
       "      <th>19</th>\n",
       "      <td>Customer_Type_Loyal Customer</td>\n",
       "      <td>0.084631</td>\n",
       "    </tr>\n",
       "    <tr>\n",
       "      <th>20</th>\n",
       "      <td>Type_of_Travel_Business travel</td>\n",
       "      <td>0.214433</td>\n",
       "    </tr>\n",
       "    <tr>\n",
       "      <th>21</th>\n",
       "      <td>Inflight_wifi_service_0</td>\n",
       "      <td>0.000000</td>\n",
       "    </tr>\n",
       "    <tr>\n",
       "      <th>22</th>\n",
       "      <td>Departure/Arrival_time_convenient_0</td>\n",
       "      <td>-0.000000</td>\n",
       "    </tr>\n",
       "    <tr>\n",
       "      <th>23</th>\n",
       "      <td>Ease_of_Online_booking_0</td>\n",
       "      <td>0.000000</td>\n",
       "    </tr>\n",
       "    <tr>\n",
       "      <th>24</th>\n",
       "      <td>Online_boarding_0</td>\n",
       "      <td>0.000000</td>\n",
       "    </tr>\n",
       "    <tr>\n",
       "      <th>25</th>\n",
       "      <td>Leg_room_service_0</td>\n",
       "      <td>0.000000</td>\n",
       "    </tr>\n",
       "  </tbody>\n",
       "</table>\n",
       "</div>"
      ],
      "text/plain": [
       "                              predictor  coefficient\n",
       "0                                   Age     0.002859\n",
       "1                                 Class    -0.136526\n",
       "2                       Flight_Distance     0.013072\n",
       "3                 Inflight_wifi_service     0.000000\n",
       "4     Departure/Arrival_time_convenient    -0.007689\n",
       "5                Ease_of_Online_booking    -0.000000\n",
       "6                         Gate_location     0.003088\n",
       "7                        Food_and_drink    -0.000000\n",
       "8                       Online_boarding     0.098021\n",
       "9                          Seat_comfort     0.033202\n",
       "10               Inflight_entertainment     0.027385\n",
       "11                     On-board_service     0.042228\n",
       "12                     Leg_room_service     0.038746\n",
       "13                     Baggage_handling     0.024980\n",
       "14                      Checkin_service     0.035053\n",
       "15                     Inflight_service     0.018384\n",
       "16                          Cleanliness     0.030828\n",
       "17           Departure_Delay_in_Minutes    -0.003243\n",
       "18                          Gender_Male     0.000000\n",
       "19         Customer_Type_Loyal Customer     0.084631\n",
       "20       Type_of_Travel_Business travel     0.214433\n",
       "21              Inflight_wifi_service_0     0.000000\n",
       "22  Departure/Arrival_time_convenient_0    -0.000000\n",
       "23             Ease_of_Online_booking_0     0.000000\n",
       "24                    Online_boarding_0     0.000000\n",
       "25                   Leg_room_service_0     0.000000"
      ]
     },
     "execution_count": 22,
     "metadata": {},
     "output_type": "execute_result"
    }
   ],
   "source": [
    "pd.DataFrame(list(zip(X_train.columns,model_lasso.coef_)), columns = ['predictor','coefficient'])"
   ]
  },
  {
   "attachments": {},
   "cell_type": "markdown",
   "id": "54fd84a8",
   "metadata": {},
   "source": [
    "### 2. RFE"
   ]
  },
  {
   "cell_type": "code",
   "execution_count": 23,
   "id": "418e052b",
   "metadata": {},
   "outputs": [],
   "source": [
    "from sklearn.feature_selection import RFE\n",
    "\n",
    "lr = LogisticRegression(max_iter=5000)\n",
    "rfe = RFE(lr, n_features_to_select=3) \n",
    "model_rfe = rfe.fit(X_train,y_train)"
   ]
  },
  {
   "cell_type": "code",
   "execution_count": 24,
   "id": "24f47972",
   "metadata": {},
   "outputs": [
    {
     "data": {
      "text/plain": [
       "array([False, False, False, False, False, False, False, False, False,\n",
       "       False, False, False, False, False, False, False, False, False,\n",
       "       False,  True,  True,  True, False, False, False, False])"
      ]
     },
     "execution_count": 24,
     "metadata": {},
     "output_type": "execute_result"
    }
   ],
   "source": [
    "model_rfe.support_"
   ]
  },
  {
   "cell_type": "code",
   "execution_count": 32,
   "id": "2a2aa304",
   "metadata": {},
   "outputs": [
    {
     "data": {
      "text/html": [
       "<div>\n",
       "<style scoped>\n",
       "    .dataframe tbody tr th:only-of-type {\n",
       "        vertical-align: middle;\n",
       "    }\n",
       "\n",
       "    .dataframe tbody tr th {\n",
       "        vertical-align: top;\n",
       "    }\n",
       "\n",
       "    .dataframe thead th {\n",
       "        text-align: right;\n",
       "    }\n",
       "</style>\n",
       "<table border=\"1\" class=\"dataframe\">\n",
       "  <thead>\n",
       "    <tr style=\"text-align: right;\">\n",
       "      <th></th>\n",
       "      <th>predictor</th>\n",
       "      <th>ranking</th>\n",
       "    </tr>\n",
       "  </thead>\n",
       "  <tbody>\n",
       "    <tr>\n",
       "      <th>19</th>\n",
       "      <td>Customer_Type_Loyal Customer</td>\n",
       "      <td>1</td>\n",
       "    </tr>\n",
       "    <tr>\n",
       "      <th>20</th>\n",
       "      <td>Type_of_Travel_Business travel</td>\n",
       "      <td>1</td>\n",
       "    </tr>\n",
       "    <tr>\n",
       "      <th>21</th>\n",
       "      <td>Inflight_wifi_service_0</td>\n",
       "      <td>1</td>\n",
       "    </tr>\n",
       "    <tr>\n",
       "      <th>13</th>\n",
       "      <td>Baggage_handling</td>\n",
       "      <td>2</td>\n",
       "    </tr>\n",
       "    <tr>\n",
       "      <th>8</th>\n",
       "      <td>Online_boarding</td>\n",
       "      <td>3</td>\n",
       "    </tr>\n",
       "    <tr>\n",
       "      <th>9</th>\n",
       "      <td>Seat_comfort</td>\n",
       "      <td>4</td>\n",
       "    </tr>\n",
       "    <tr>\n",
       "      <th>11</th>\n",
       "      <td>On-board_service</td>\n",
       "      <td>5</td>\n",
       "    </tr>\n",
       "    <tr>\n",
       "      <th>15</th>\n",
       "      <td>Inflight_service</td>\n",
       "      <td>6</td>\n",
       "    </tr>\n",
       "    <tr>\n",
       "      <th>16</th>\n",
       "      <td>Cleanliness</td>\n",
       "      <td>7</td>\n",
       "    </tr>\n",
       "    <tr>\n",
       "      <th>14</th>\n",
       "      <td>Checkin_service</td>\n",
       "      <td>8</td>\n",
       "    </tr>\n",
       "    <tr>\n",
       "      <th>1</th>\n",
       "      <td>Class</td>\n",
       "      <td>9</td>\n",
       "    </tr>\n",
       "    <tr>\n",
       "      <th>10</th>\n",
       "      <td>Inflight_entertainment</td>\n",
       "      <td>10</td>\n",
       "    </tr>\n",
       "    <tr>\n",
       "      <th>23</th>\n",
       "      <td>Ease_of_Online_booking_0</td>\n",
       "      <td>11</td>\n",
       "    </tr>\n",
       "    <tr>\n",
       "      <th>12</th>\n",
       "      <td>Leg_room_service</td>\n",
       "      <td>12</td>\n",
       "    </tr>\n",
       "    <tr>\n",
       "      <th>22</th>\n",
       "      <td>Departure/Arrival_time_convenient_0</td>\n",
       "      <td>13</td>\n",
       "    </tr>\n",
       "    <tr>\n",
       "      <th>17</th>\n",
       "      <td>Departure_Delay_in_Minutes</td>\n",
       "      <td>14</td>\n",
       "    </tr>\n",
       "    <tr>\n",
       "      <th>3</th>\n",
       "      <td>Inflight_wifi_service</td>\n",
       "      <td>15</td>\n",
       "    </tr>\n",
       "    <tr>\n",
       "      <th>5</th>\n",
       "      <td>Ease_of_Online_booking</td>\n",
       "      <td>16</td>\n",
       "    </tr>\n",
       "    <tr>\n",
       "      <th>4</th>\n",
       "      <td>Departure/Arrival_time_convenient</td>\n",
       "      <td>17</td>\n",
       "    </tr>\n",
       "    <tr>\n",
       "      <th>18</th>\n",
       "      <td>Gender_Male</td>\n",
       "      <td>18</td>\n",
       "    </tr>\n",
       "    <tr>\n",
       "      <th>0</th>\n",
       "      <td>Age</td>\n",
       "      <td>19</td>\n",
       "    </tr>\n",
       "    <tr>\n",
       "      <th>7</th>\n",
       "      <td>Food_and_drink</td>\n",
       "      <td>20</td>\n",
       "    </tr>\n",
       "    <tr>\n",
       "      <th>2</th>\n",
       "      <td>Flight_Distance</td>\n",
       "      <td>21</td>\n",
       "    </tr>\n",
       "    <tr>\n",
       "      <th>6</th>\n",
       "      <td>Gate_location</td>\n",
       "      <td>22</td>\n",
       "    </tr>\n",
       "    <tr>\n",
       "      <th>24</th>\n",
       "      <td>Online_boarding_0</td>\n",
       "      <td>23</td>\n",
       "    </tr>\n",
       "    <tr>\n",
       "      <th>25</th>\n",
       "      <td>Leg_room_service_0</td>\n",
       "      <td>24</td>\n",
       "    </tr>\n",
       "  </tbody>\n",
       "</table>\n",
       "</div>"
      ],
      "text/plain": [
       "                              predictor  ranking\n",
       "19         Customer_Type_Loyal Customer        1\n",
       "20       Type_of_Travel_Business travel        1\n",
       "21              Inflight_wifi_service_0        1\n",
       "13                     Baggage_handling        2\n",
       "8                       Online_boarding        3\n",
       "9                          Seat_comfort        4\n",
       "11                     On-board_service        5\n",
       "15                     Inflight_service        6\n",
       "16                          Cleanliness        7\n",
       "14                      Checkin_service        8\n",
       "1                                 Class        9\n",
       "10               Inflight_entertainment       10\n",
       "23             Ease_of_Online_booking_0       11\n",
       "12                     Leg_room_service       12\n",
       "22  Departure/Arrival_time_convenient_0       13\n",
       "17           Departure_Delay_in_Minutes       14\n",
       "3                 Inflight_wifi_service       15\n",
       "5                Ease_of_Online_booking       16\n",
       "4     Departure/Arrival_time_convenient       17\n",
       "18                          Gender_Male       18\n",
       "0                                   Age       19\n",
       "7                        Food_and_drink       20\n",
       "2                       Flight_Distance       21\n",
       "6                         Gate_location       22\n",
       "24                    Online_boarding_0       23\n",
       "25                   Leg_room_service_0       24"
      ]
     },
     "execution_count": 32,
     "metadata": {},
     "output_type": "execute_result"
    }
   ],
   "source": [
    "pd.DataFrame(list(zip(X_train.columns,model_rfe.ranking_)), \n",
    "             columns = ['predictor','ranking']).sort_values(by='ranking')"
   ]
  },
  {
   "attachments": {},
   "cell_type": "markdown",
   "id": "746dbfc6",
   "metadata": {},
   "source": [
    "## Logistic Regression"
   ]
  },
  {
   "cell_type": "code",
   "execution_count": null,
   "id": "b41b49f1",
   "metadata": {},
   "outputs": [],
   "source": []
  },
  {
   "cell_type": "code",
   "execution_count": null,
   "id": "8f7f9e49",
   "metadata": {},
   "outputs": [],
   "source": []
  },
  {
   "cell_type": "code",
   "execution_count": null,
   "id": "5ba42cc7",
   "metadata": {},
   "outputs": [],
   "source": []
  },
  {
   "cell_type": "code",
   "execution_count": 26,
   "id": "cb60645e",
   "metadata": {},
   "outputs": [
    {
     "ename": "SyntaxError",
     "evalue": "invalid syntax (1136493529.py, line 3)",
     "output_type": "error",
     "traceback": [
      "\u001b[1;36m  Cell \u001b[1;32mIn[26], line 3\u001b[1;36m\u001b[0m\n\u001b[1;33m    y_pred = #???\u001b[0m\n\u001b[1;37m             ^\u001b[0m\n\u001b[1;31mSyntaxError\u001b[0m\u001b[1;31m:\u001b[0m invalid syntax\n"
     ]
    }
   ],
   "source": [
    "# Add result to model_comparison dataframe\n",
    "model_name = 'LogisticRegression'\n",
    "y_pred = #???\n",
    "\n",
    "add_result(model_name, y_val, y_pred)"
   ]
  },
  {
   "attachments": {},
   "cell_type": "markdown",
   "id": "e2477954",
   "metadata": {},
   "source": [
    "## K-Nearest Neighbor"
   ]
  },
  {
   "cell_type": "code",
   "execution_count": null,
   "id": "93058600",
   "metadata": {},
   "outputs": [],
   "source": []
  },
  {
   "cell_type": "code",
   "execution_count": null,
   "id": "0238e620",
   "metadata": {},
   "outputs": [],
   "source": []
  },
  {
   "cell_type": "code",
   "execution_count": null,
   "id": "f555ff08",
   "metadata": {},
   "outputs": [],
   "source": [
    "# Add result to model_comparison dataframe\n",
    "model_name = 'KNN'\n",
    "y_pred = #???\n",
    "\n",
    "add_result(model_name, y_val, y_pred)"
   ]
  },
  {
   "attachments": {},
   "cell_type": "markdown",
   "id": "2a3fa402",
   "metadata": {},
   "source": [
    "## Naive Bayesian"
   ]
  },
  {
   "cell_type": "code",
   "execution_count": null,
   "id": "a100b9a7",
   "metadata": {},
   "outputs": [],
   "source": []
  },
  {
   "cell_type": "code",
   "execution_count": null,
   "id": "d4cddb03",
   "metadata": {},
   "outputs": [],
   "source": []
  },
  {
   "cell_type": "code",
   "execution_count": null,
   "id": "9ce5a4f2",
   "metadata": {},
   "outputs": [],
   "source": []
  },
  {
   "attachments": {},
   "cell_type": "markdown",
   "id": "ea817ef5",
   "metadata": {},
   "source": [
    "## Decision Tree"
   ]
  },
  {
   "cell_type": "code",
   "execution_count": null,
   "id": "90f5dae2",
   "metadata": {},
   "outputs": [],
   "source": []
  },
  {
   "cell_type": "code",
   "execution_count": null,
   "id": "be860316",
   "metadata": {},
   "outputs": [],
   "source": []
  },
  {
   "cell_type": "code",
   "execution_count": null,
   "id": "1673dade",
   "metadata": {},
   "outputs": [],
   "source": []
  },
  {
   "cell_type": "code",
   "execution_count": null,
   "id": "54167514",
   "metadata": {},
   "outputs": [],
   "source": []
  },
  {
   "attachments": {},
   "cell_type": "markdown",
   "id": "185b86ea",
   "metadata": {},
   "source": [
    "## Random Forest"
   ]
  },
  {
   "cell_type": "code",
   "execution_count": null,
   "id": "434b6fd9",
   "metadata": {},
   "outputs": [],
   "source": []
  },
  {
   "cell_type": "code",
   "execution_count": null,
   "id": "66c84629",
   "metadata": {},
   "outputs": [],
   "source": []
  },
  {
   "cell_type": "code",
   "execution_count": null,
   "id": "df578aa1",
   "metadata": {},
   "outputs": [],
   "source": []
  },
  {
   "cell_type": "code",
   "execution_count": null,
   "id": "fe6e0d1e",
   "metadata": {},
   "outputs": [],
   "source": []
  },
  {
   "cell_type": "code",
   "execution_count": null,
   "id": "d3cf5223",
   "metadata": {},
   "outputs": [],
   "source": []
  },
  {
   "cell_type": "code",
   "execution_count": null,
   "id": "9c3a4b21",
   "metadata": {},
   "outputs": [],
   "source": []
  },
  {
   "cell_type": "code",
   "execution_count": null,
   "id": "4ab08a48",
   "metadata": {},
   "outputs": [],
   "source": []
  },
  {
   "attachments": {},
   "cell_type": "markdown",
   "id": "b2fb3896",
   "metadata": {},
   "source": [
    "## Adaboost"
   ]
  },
  {
   "cell_type": "code",
   "execution_count": null,
   "id": "eae435d9",
   "metadata": {},
   "outputs": [],
   "source": []
  },
  {
   "cell_type": "code",
   "execution_count": null,
   "id": "ce303ab4",
   "metadata": {},
   "outputs": [],
   "source": []
  },
  {
   "cell_type": "code",
   "execution_count": null,
   "id": "84999ed4",
   "metadata": {},
   "outputs": [],
   "source": []
  },
  {
   "cell_type": "code",
   "execution_count": null,
   "id": "12fc6bfb",
   "metadata": {},
   "outputs": [],
   "source": [
    "# Add result to model_comparison dataframe\n",
    "model_name = 'AdaBoost'\n",
    "y_pred = #???\n",
    "\n",
    "add_result(model_name, y_val, y_pred)"
   ]
  },
  {
   "attachments": {},
   "cell_type": "markdown",
   "id": "d3705a06",
   "metadata": {},
   "source": [
    "## LightGBM"
   ]
  },
  {
   "cell_type": "code",
   "execution_count": null,
   "id": "c335248d",
   "metadata": {},
   "outputs": [],
   "source": []
  },
  {
   "cell_type": "code",
   "execution_count": null,
   "id": "ab2437d0",
   "metadata": {},
   "outputs": [],
   "source": []
  },
  {
   "cell_type": "code",
   "execution_count": null,
   "id": "1325df9f",
   "metadata": {},
   "outputs": [],
   "source": []
  },
  {
   "cell_type": "code",
   "execution_count": null,
   "id": "ed51fd20",
   "metadata": {},
   "outputs": [],
   "source": []
  },
  {
   "attachments": {},
   "cell_type": "markdown",
   "id": "db59a0ff",
   "metadata": {},
   "source": [
    "## XGBoost"
   ]
  },
  {
   "cell_type": "code",
   "execution_count": null,
   "id": "ca6e0d07",
   "metadata": {},
   "outputs": [],
   "source": []
  },
  {
   "cell_type": "code",
   "execution_count": null,
   "id": "d473068a",
   "metadata": {},
   "outputs": [],
   "source": []
  },
  {
   "cell_type": "code",
   "execution_count": null,
   "id": "f377f8ae",
   "metadata": {},
   "outputs": [],
   "source": [
    "# Add result to model_comparison dataframe\n",
    "model_name = 'XGBoost'\n",
    "y_pred = #???\n",
    "\n",
    "add_result(model_name, y_val, y_pred)"
   ]
  },
  {
   "attachments": {},
   "cell_type": "markdown",
   "id": "b96667f4",
   "metadata": {},
   "source": [
    "## Stacked Generalization"
   ]
  },
  {
   "cell_type": "code",
   "execution_count": null,
   "id": "c3fb48eb",
   "metadata": {},
   "outputs": [],
   "source": []
  },
  {
   "cell_type": "code",
   "execution_count": null,
   "id": "086947f1",
   "metadata": {},
   "outputs": [],
   "source": []
  },
  {
   "cell_type": "code",
   "execution_count": null,
   "id": "8843ce33",
   "metadata": {},
   "outputs": [],
   "source": []
  },
  {
   "attachments": {},
   "cell_type": "markdown",
   "id": "1bf0a34d",
   "metadata": {},
   "source": [
    "## Support-Vector Machines"
   ]
  },
  {
   "cell_type": "code",
   "execution_count": null,
   "id": "01c1c1d8",
   "metadata": {},
   "outputs": [],
   "source": []
  },
  {
   "cell_type": "code",
   "execution_count": null,
   "id": "c0bedc67",
   "metadata": {},
   "outputs": [],
   "source": []
  },
  {
   "cell_type": "code",
   "execution_count": null,
   "id": "26d33801",
   "metadata": {},
   "outputs": [],
   "source": []
  },
  {
   "cell_type": "code",
   "execution_count": null,
   "id": "43ab2ccc",
   "metadata": {},
   "outputs": [],
   "source": []
  }
 ],
 "metadata": {
  "kernelspec": {
   "display_name": "Python 3",
   "language": "python",
   "name": "python3"
  },
  "language_info": {
   "codemirror_mode": {
    "name": "ipython",
    "version": 3
   },
   "file_extension": ".py",
   "mimetype": "text/x-python",
   "name": "python",
   "nbconvert_exporter": "python",
   "pygments_lexer": "ipython3",
   "version": "3.10.10"
  },
  "vscode": {
   "interpreter": {
    "hash": "eb8d3085d426e5e8dee3252ffbadecffc2a8c816985f9d79249a1de42c265c0a"
   }
  }
 },
 "nbformat": 4,
 "nbformat_minor": 5
}
