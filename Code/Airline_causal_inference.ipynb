{
 "cells": [
  {
   "cell_type": "code",
   "execution_count": 157,
   "metadata": {},
   "outputs": [
    {
     "name": "stdout",
     "output_type": "stream",
     "text": [
      "0.13.0\n"
     ]
    }
   ],
   "source": [
    "# data processing libraries\n",
    "import pandas as pd\n",
    "import numpy as np\n",
    "from IPython.display import Markdown, display, Image\n",
    "\n",
    "# modeling \n",
    "import sklearn\n",
    "from sklearn.preprocessing import normalize, StandardScaler, LabelEncoder\n",
    "from sklearn.model_selection import train_test_split, cross_val_score\n",
    "from sklearn.feature_selection import RFE, RFECV, SelectFromModel\n",
    "from sklearn.impute import SimpleImputer\n",
    "\n",
    "# Algorithms\n",
    "import statsmodels.api as sm\n",
    "from xgboost import XGBRegressor, XGBClassifier\n",
    "from lightgbm import LGBMClassifier, LGBMRegressor\n",
    "from sklearn.linear_model import LinearRegression, LassoCV\n",
    "from sklearn.model_selection import train_test_split\n",
    "\n",
    "# Causal Inference\n",
    "import causalml\n",
    "from causalml.inference.meta import BaseSClassifier, BaseTClassifier, BaseRClassifier, BaseXClassifier\n",
    "from causalml.inference.tree import UpliftTreeClassifier, UpliftRandomForestClassifier\n",
    "from causalml.inference.tree import uplift_tree_string, uplift_tree_plot\n",
    "from causalml.dataset import *\n",
    "from causalml.metrics import *\n",
    "\n",
    "\n",
    "# Visualization\n",
    "import matplotlib.pyplot as plt\n",
    "%matplotlib inline\n",
    "plt.rcParams['figure.figsize'] = [10, 5] #change size of plot\n",
    "plt.style.use('fivethirtyeight')\n",
    "\n",
    "\n",
    "# Handle warnings\n",
    "import warnings\n",
    "warnings.filterwarnings('ignore')\n",
    "\n",
    "print(causalml.__version__)"
   ]
  },
  {
   "attachments": {},
   "cell_type": "markdown",
   "metadata": {},
   "source": [
    "# Load Dataset"
   ]
  },
  {
   "cell_type": "code",
   "execution_count": null,
   "metadata": {},
   "outputs": [],
   "source": [
    "url = 'https://raw.githubusercontent.com/McGill-MMA-EnterpriseAnalytics/Airline-Passenger-Satisfaction-Prediction/main/Data/df5.csv'\n",
    "data = pd.read_csv(url)\n",
    "data"
   ]
  },
  {
   "cell_type": "code",
   "execution_count": 7,
   "metadata": {},
   "outputs": [],
   "source": [
    "def list_column_values(df, number_of_values, print_all):\n",
    "    display(Markdown('**Results:**' ))\n",
    "    for col in df.columns[0:]:\n",
    "        if df[col].nunique() <= number_of_values:\n",
    "            print(f\"{col.ljust(25)}\" +  ' ==> ' + str(df[col].sort_values().unique().tolist()) )\n",
    "        else:  \n",
    "            if print_all=='True':\n",
    "               print(f\"{col.ljust(25)}\" + ' ==> more than ' + str(number_of_values) + ' values')"
   ]
  },
  {
   "cell_type": "code",
   "execution_count": 8,
   "metadata": {},
   "outputs": [
    {
     "data": {
      "text/markdown": [
       "**Results:**"
      ],
      "text/plain": [
       "<IPython.core.display.Markdown object>"
      ]
     },
     "metadata": {},
     "output_type": "display_data"
    },
    {
     "name": "stdout",
     "output_type": "stream",
     "text": [
      "Age                       ==> more than 22 values\n",
      "Class                     ==> [0.0, 1.0, 2.0]\n",
      "Flight_Distance           ==> more than 22 values\n",
      "Inflight_wifi_service     ==> [0.0, 1.0, 2.0, 3.0, 4.0, 5.0]\n",
      "Departure/Arrival_time_convenient ==> [0.0, 1.0, 2.0, 3.0, 4.0, 5.0]\n",
      "Ease_of_Online_booking    ==> [0.0, 1.0, 2.0, 3.0, 4.0, 5.0]\n",
      "Gate_location             ==> [1.0, 2.0, 3.0, 4.0, 5.0]\n",
      "Food_and_drink            ==> [1.0, 2.0, 3.0, 4.0, 5.0]\n",
      "Online_boarding           ==> [0.0, 1.0, 2.0, 3.0, 4.0, 5.0]\n",
      "Seat_comfort              ==> [1.0, 2.0, 3.0, 4.0, 5.0]\n",
      "Inflight_entertainment    ==> [1.0, 2.0, 3.0, 4.0, 5.0]\n",
      "On-board_service          ==> [1.0, 2.0, 3.0, 4.0, 5.0]\n",
      "Leg_room_service          ==> [0.0, 1.0, 2.0, 3.0, 4.0, 5.0]\n",
      "Baggage_handling          ==> [1.0, 2.0, 3.0, 4.0, 5.0]\n",
      "Checkin_service           ==> [1.0, 2.0, 3.0, 4.0, 5.0]\n",
      "Inflight_service          ==> [1.0, 2.0, 3.0, 4.0, 5.0]\n",
      "Cleanliness               ==> [1.0, 2.0, 3.0, 4.0, 5.0]\n",
      "Departure_Delay_in_Minutes ==> more than 22 values\n",
      "satisfaction              ==> [0.0, 1.0]\n",
      "Gender_Male               ==> [0.0, 1.0]\n",
      "Customer_Type_Loyal Customer ==> [0.0, 1.0]\n",
      "Type_of_Travel_Business travel ==> [0.0, 1.0]\n"
     ]
    }
   ],
   "source": [
    "list_column_values(data, data.shape[1],'True')"
   ]
  },
  {
   "attachments": {},
   "cell_type": "markdown",
   "metadata": {},
   "source": [
    "We consider rating=0 as missing values as the customer did not provide any rating feedback."
   ]
  },
  {
   "cell_type": "code",
   "execution_count": 10,
   "metadata": {},
   "outputs": [
    {
     "data": {
      "text/plain": [
       "Inflight_wifi_service                 67\n",
       "Departure/Arrival_time_convenient    134\n",
       "Ease_of_Online_booking                58\n",
       "Online_boarding                       16\n",
       "Leg_room_service                       1\n",
       "dtype: int64"
      ]
     },
     "execution_count": 10,
     "metadata": {},
     "output_type": "execute_result"
    }
   ],
   "source": [
    "incomplete = ['Inflight_wifi_service','Departure/Arrival_time_convenient',\n",
    "              'Ease_of_Online_booking','Online_boarding','Leg_room_service']\n",
    "(data[incomplete] == 0).sum()"
   ]
  },
  {
   "cell_type": "code",
   "execution_count": 11,
   "metadata": {},
   "outputs": [
    {
     "data": {
      "text/plain": [
       "0.00627857776564526"
      ]
     },
     "execution_count": 11,
     "metadata": {},
     "output_type": "execute_result"
    }
   ],
   "source": [
    "(data[incomplete] == 0).sum().sum()/data.shape[0]"
   ]
  },
  {
   "attachments": {},
   "cell_type": "markdown",
   "metadata": {},
   "source": [
    "Considering the total number of rows that contains missing ratings only takes up 0.6% of the dataset, we simply drop these observations."
   ]
  },
  {
   "cell_type": "code",
   "execution_count": 12,
   "metadata": {},
   "outputs": [
    {
     "data": {
      "text/markdown": [
       "**Results:**"
      ],
      "text/plain": [
       "<IPython.core.display.Markdown object>"
      ]
     },
     "metadata": {},
     "output_type": "display_data"
    },
    {
     "name": "stdout",
     "output_type": "stream",
     "text": [
      "Age                       ==> more than 22 values\n",
      "Class                     ==> [0.0, 1.0, 2.0]\n",
      "Flight_Distance           ==> more than 22 values\n",
      "Inflight_wifi_service     ==> [1.0, 2.0, 3.0, 4.0, 5.0]\n",
      "Departure/Arrival_time_convenient ==> [1.0, 2.0, 3.0, 4.0, 5.0]\n",
      "Ease_of_Online_booking    ==> [1.0, 2.0, 3.0, 4.0, 5.0]\n",
      "Gate_location             ==> [1.0, 2.0, 3.0, 4.0, 5.0]\n",
      "Food_and_drink            ==> [1.0, 2.0, 3.0, 4.0, 5.0]\n",
      "Online_boarding           ==> [1.0, 2.0, 3.0, 4.0, 5.0]\n",
      "Seat_comfort              ==> [1.0, 2.0, 3.0, 4.0, 5.0]\n",
      "Inflight_entertainment    ==> [1.0, 2.0, 3.0, 4.0, 5.0]\n",
      "On-board_service          ==> [1.0, 2.0, 3.0, 4.0, 5.0]\n",
      "Leg_room_service          ==> [1.0, 2.0, 3.0, 4.0, 5.0]\n",
      "Baggage_handling          ==> [1.0, 2.0, 3.0, 4.0, 5.0]\n",
      "Checkin_service           ==> [1.0, 2.0, 3.0, 4.0, 5.0]\n",
      "Inflight_service          ==> [1.0, 2.0, 3.0, 4.0, 5.0]\n",
      "Cleanliness               ==> [1.0, 2.0, 3.0, 4.0, 5.0]\n",
      "Departure_Delay_in_Minutes ==> more than 22 values\n",
      "satisfaction              ==> [0.0, 1.0]\n",
      "Gender_Male               ==> [0.0, 1.0]\n",
      "Customer_Type_Loyal Customer ==> [0.0, 1.0]\n",
      "Type_of_Travel_Business travel ==> [0.0, 1.0]\n"
     ]
    }
   ],
   "source": [
    "data = data.loc[(data[incomplete] != 0).all(axis=1)]\n",
    "\n",
    "list_column_values(data, data.shape[1],'True')"
   ]
  },
  {
   "attachments": {},
   "cell_type": "markdown",
   "metadata": {},
   "source": [
    "We are interested in which features about the flight would cause customer satisfactory / unsatisfactory. Hence we will not consider information about  \n",
    "- Customer: 'Age', 'Gender_Male', 'Customer_Type_Loyal Customer', \n",
    "- Class: 'Class' and 'Type_of_Travel_Business travel'. \n",
    "- 'Flight_Distance', 'Departure_Delay_in_Minutes': Most of the time it is out of our control."
   ]
  },
  {
   "cell_type": "code",
   "execution_count": 63,
   "metadata": {},
   "outputs": [
    {
     "data": {
      "text/plain": [
       "Index(['Inflight_wifi_service', 'Departure/Arrival_time_convenient',\n",
       "       'Ease_of_Online_booking', 'Gate_location', 'Food_and_drink',\n",
       "       'Online_boarding', 'Seat_comfort', 'Inflight_entertainment',\n",
       "       'On-board_service', 'Leg_room_service', 'Baggage_handling',\n",
       "       'Checkin_service', 'Inflight_service', 'Cleanliness', 'satisfaction'],\n",
       "      dtype='object')"
      ]
     },
     "execution_count": 63,
     "metadata": {},
     "output_type": "execute_result"
    }
   ],
   "source": [
    "data_causal = data.drop(columns={'Age', 'Gender_Male', \n",
    "                       'Customer_Type_Loyal Customer', 'Class', \n",
    "                       'Type_of_Travel_Business travel',\n",
    "                       'Flight_Distance', 'Departure_Delay_in_Minutes'} )\n",
    "data_causal.columns"
   ]
  },
  {
   "cell_type": "markdown",
   "metadata": {},
   "source": [
    "For each feature, we want to answer the question \"What if we provide better service for this feature, will my satisfication level increase?\"\n",
    "\n",
    "We consider rating larger than 3 as good enough service, and rating less or equal than 3 as need to improve."
   ]
  },
  {
   "cell_type": "code",
   "execution_count": 64,
   "metadata": {},
   "outputs": [
    {
     "data": {
      "text/plain": [
       "<bound method NDFrame.head of        Inflight_wifi_service  Departure/Arrival_time_convenient  \\\n",
       "0                          0                                  0   \n",
       "1                          0                                  0   \n",
       "2                          0                                  1   \n",
       "3                          1                                  0   \n",
       "4                          0                                  0   \n",
       "...                      ...                                ...   \n",
       "43954                      1                                  1   \n",
       "43955                      1                                  1   \n",
       "43956                      1                                  1   \n",
       "43957                      0                                  0   \n",
       "43958                      1                                  1   \n",
       "\n",
       "       Ease_of_Online_booking  Gate_location  Food_and_drink  Online_boarding  \\\n",
       "0                           0              0               1                1   \n",
       "1                           0              0               1                1   \n",
       "2                           0              0               0                0   \n",
       "3                           1              1               1                1   \n",
       "4                           0              1               0                0   \n",
       "...                       ...            ...             ...              ...   \n",
       "43954                       1              1               1                1   \n",
       "43955                       1              1               1                1   \n",
       "43956                       1              1               1                1   \n",
       "43957                       0              1               0                0   \n",
       "43958                       1              1               0                1   \n",
       "\n",
       "       Seat_comfort  Inflight_entertainment  On-board_service  \\\n",
       "0                 1                       1                 1   \n",
       "1                 1                       0                 0   \n",
       "2                 0                       0                 0   \n",
       "3                 1                       1                 1   \n",
       "4                 0                       0                 0   \n",
       "...             ...                     ...               ...   \n",
       "43954             1                       1                 0   \n",
       "43955             1                       1                 0   \n",
       "43956             1                       1                 1   \n",
       "43957             0                       0                 1   \n",
       "43958             1                       1                 1   \n",
       "\n",
       "       Leg_room_service  Baggage_handling  Checkin_service  Inflight_service  \\\n",
       "0                     0                 1                1                 1   \n",
       "1                     1                 1                0                 0   \n",
       "2                     0                 1                0                 1   \n",
       "3                     1                 1                1                 1   \n",
       "4                     0                 1                1                 0   \n",
       "...                 ...               ...              ...               ...   \n",
       "43954                 1                 1                0                 1   \n",
       "43955                 1                 0                0                 0   \n",
       "43956                 1                 1                1                 1   \n",
       "43957                 0                 1                0                 1   \n",
       "43958                 1                 1                1                 1   \n",
       "\n",
       "       Cleanliness  satisfaction  \n",
       "0                1           1.0  \n",
       "1                0           1.0  \n",
       "2                0           0.0  \n",
       "3                1           1.0  \n",
       "4                0           0.0  \n",
       "...            ...           ...  \n",
       "43954            1           1.0  \n",
       "43955            1           0.0  \n",
       "43956            1           1.0  \n",
       "43957            0           0.0  \n",
       "43958            1           1.0  \n",
       "\n",
       "[43756 rows x 15 columns]>"
      ]
     },
     "execution_count": 64,
     "metadata": {},
     "output_type": "execute_result"
    }
   ],
   "source": [
    "# Convert all features into boolean\n",
    "feature_names = data_causal.drop(columns='satisfaction').columns\n",
    "\n",
    "data_causal[feature_names] = data_causal[feature_names].applymap(lambda x: 1 if x > 3 else 0)\n",
    "data_causal.head"
   ]
  },
  {
   "attachments": {},
   "cell_type": "markdown",
   "metadata": {},
   "source": [
    "# Feature Importance"
   ]
  },
  {
   "cell_type": "code",
   "execution_count": 65,
   "metadata": {},
   "outputs": [],
   "source": [
    "X = data_causal.drop(columns='satisfaction')\n",
    "y = data_causal['satisfaction']"
   ]
  },
  {
   "cell_type": "code",
   "execution_count": 91,
   "metadata": {},
   "outputs": [
    {
     "data": {
      "text/plain": [
       "Index(['Inflight_wifi_service', 'Departure/Arrival_time_convenient',\n",
       "       'Ease_of_Online_booking', 'Gate_location', 'Food_and_drink',\n",
       "       'Online_boarding', 'Seat_comfort', 'Inflight_entertainment',\n",
       "       'On-board_service', 'Leg_room_service', 'Baggage_handling',\n",
       "       'Checkin_service', 'Inflight_service', 'Cleanliness'],\n",
       "      dtype='object')"
      ]
     },
     "execution_count": 91,
     "metadata": {},
     "output_type": "execute_result"
    }
   ],
   "source": [
    "col_names = X.columns\n",
    "col_names"
   ]
  },
  {
   "cell_type": "code",
   "execution_count": 58,
   "metadata": {},
   "outputs": [],
   "source": [
    "import lightgbm as lgb\n",
    "from lightgbm import LGBMClassifier, plot_importance\n",
    "\n",
    "lgbm_clf = LGBMClassifier(n_estimators=1000, \n",
    "                          n_jobs=1,\n",
    "                          learning_rate=0.02,\n",
    "                          num_leaves=50,\n",
    "                          max_depth=7,\n",
    "                          verbose=-1,\n",
    "                          random_state=42)\n",
    "model_lgbm= lgbm_clf.fit(X, y)"
   ]
  },
  {
   "cell_type": "code",
   "execution_count": 59,
   "metadata": {},
   "outputs": [
    {
     "data": {
      "image/png": "[encoded data removed]",
      "text/plain": [
       "<Figure size 1200x1000 with 1 Axes>"
      ]
     },
     "metadata": {},
     "output_type": "display_data"
    }
   ],
   "source": [
    "lgb.plot_importance(model_lgbm)\n",
    "plt.rcParams['figure.figsize'] = [12, 10]\n",
    "plt.show()"
   ]
  },
  {
   "attachments": {},
   "cell_type": "markdown",
   "metadata": {},
   "source": [
    "We want to see if the feature with high feature importance actually has high causal effect as well"
   ]
  },
  {
   "cell_type": "code",
   "execution_count": 166,
   "metadata": {},
   "outputs": [],
   "source": [
    "X_train, X_test, y_train, y_test = train_test_split(X, y, test_size=0.2, random_state=111)"
   ]
  },
  {
   "cell_type": "code",
   "execution_count": 167,
   "metadata": {},
   "outputs": [
    {
     "data": {
      "text/plain": [
       "15780    1\n",
       "40434    1\n",
       "22418    1\n",
       "32665    0\n",
       "34191    0\n",
       "        ..\n",
       "40392    1\n",
       "37121    0\n",
       "4839     1\n",
       "10234    1\n",
       "12161    1\n",
       "Name: Seat_comfort, Length: 35004, dtype: int64"
      ]
     },
     "execution_count": 167,
     "metadata": {},
     "output_type": "execute_result"
    }
   ],
   "source": [
    "treatment = X_train['Seat_comfort']\n",
    "treatment"
   ]
  },
  {
   "cell_type": "code",
   "execution_count": 168,
   "metadata": {},
   "outputs": [
    {
     "data": {
      "text/plain": [
       "Index(['Inflight_wifi_service', 'Departure/Arrival_time_convenient',\n",
       "       'Ease_of_Online_booking', 'Gate_location', 'Food_and_drink',\n",
       "       'Online_boarding', 'Seat_comfort', 'Inflight_entertainment',\n",
       "       'On-board_service', 'Leg_room_service', 'Baggage_handling',\n",
       "       'Checkin_service', 'Inflight_service', 'Cleanliness'],\n",
       "      dtype='object')"
      ]
     },
     "execution_count": 168,
     "metadata": {},
     "output_type": "execute_result"
    }
   ],
   "source": [
    "X_train.columns"
   ]
  },
  {
   "attachments": {},
   "cell_type": "markdown",
   "metadata": {},
   "source": [
    "# S-Learner"
   ]
  },
  {
   "cell_type": "code",
   "execution_count": 118,
   "metadata": {},
   "outputs": [
    {
     "name": "stdout",
     "output_type": "stream",
     "text": [
      "Avereage Treatment Effect with S-Learner using XGBClassifer\n",
      "\n",
      "Inflight_wifi_service : 0.14 (0.13, 0.14)\n",
      "Departure/Arrival_time_convenient : -0.07 (-0.08, -0.07)\n",
      "Ease_of_Online_booking : -0.03 (-0.04, -0.03)\n",
      "Gate_location : 0.03 (0.02, 0.04)\n",
      "Food_and_drink : 0.02 (0.02, 0.03)\n",
      "Online_boarding : 0.26 (0.25, 0.26)\n",
      "Seat_comfort : 0.07 (0.06, 0.07)\n",
      "Inflight_entertainment : 0.04 (0.04, 0.05)\n",
      "On-board_service : 0.04 (0.04, 0.05)\n",
      "Leg_room_service : 0.19 (0.18, 0.19)\n",
      "Baggage_handling : 0.06 (0.05, 0.06)\n",
      "Checkin_service : 0.03 (0.03, 0.03)\n",
      "Inflight_service : 0.07 (0.06, 0.07)\n",
      "Cleanliness : 0.04 (0.03, 0.04)\n"
     ]
    }
   ],
   "source": [
    "#  using XGBCLassifier\n",
    "s_learner = BaseSClassifier(XGBClassifier(random_state=42))\n",
    "S_ATE_XGB = []\n",
    "print('Avereage Treatment Effect with S-Learner using XGBClassifer\\n')\n",
    "\n",
    "y_c = X_train['satisfaction']\n",
    "for c in col_names:\n",
    "    treatment = X_train[c]\n",
    "    X_c = X_train.drop(columns={c,'satisfaction'})\n",
    "\n",
    "    ate, lb, ub = s_learner.estimate_ate(X=X_c, treatment=treatment, y=y_c, return_ci=True)\n",
    "    S_ATE_XGB.append(ate[0])\n",
    "    print(c,': {:.2f} ({:.2f}, {:.2f})'.format(ate[0],lb[0], ub[0]))\n"
   ]
  },
  {
   "cell_type": "code",
   "execution_count": 119,
   "metadata": {},
   "outputs": [
    {
     "name": "stdout",
     "output_type": "stream",
     "text": [
      "Avereage Treatment Effect with S-Learner using LGBMClassifer\n",
      "\n",
      "Inflight_wifi_service : 0.12 (0.12, 0.13)\n",
      "Departure/Arrival_time_convenient : -0.08 (-0.09, -0.08)\n",
      "Ease_of_Online_booking : -0.03 (-0.03, -0.02)\n",
      "Gate_location : 0.05 (0.05, 0.06)\n",
      "Food_and_drink : -0.00 (-0.01, 0.00)\n",
      "Online_boarding : 0.26 (0.25, 0.26)\n",
      "Seat_comfort : 0.07 (0.07, 0.08)\n",
      "Inflight_entertainment : 0.03 (0.03, 0.03)\n",
      "On-board_service : 0.04 (0.04, 0.05)\n",
      "Leg_room_service : 0.19 (0.18, 0.19)\n",
      "Baggage_handling : 0.05 (0.05, 0.06)\n",
      "Checkin_service : 0.03 (0.03, 0.04)\n",
      "Inflight_service : 0.05 (0.05, 0.06)\n",
      "Cleanliness : 0.03 (0.03, 0.04)\n"
     ]
    }
   ],
   "source": [
    "#  using LGBMCLassifier\n",
    "s_learner = BaseSClassifier(LGBMClassifier(random_state=42))\n",
    "S_ATE_LGBM = []\n",
    "print('Avereage Treatment Effect with S-Learner using LGBMClassifer\\n')\n",
    "\n",
    "y_c = X_train['satisfaction']\n",
    "for c in col_names:\n",
    "    treatment = X_train[c]\n",
    "    X_c = X_train.drop(columns={c,'satisfaction'})\n",
    "\n",
    "    ate, lb, ub = s_learner.estimate_ate(X=X_c, treatment=treatment, y=y_c, return_ci=True)\n",
    "    S_ATE_LGBM.append(ate[0])\n",
    "    print(c,': {:.2f} ({:.2f}, {:.2f})'.format(ate[0],lb[0], ub[0]))\n"
   ]
  },
  {
   "attachments": {},
   "cell_type": "markdown",
   "metadata": {},
   "source": [
    "# T-Learner"
   ]
  },
  {
   "cell_type": "code",
   "execution_count": 141,
   "metadata": {},
   "outputs": [
    {
     "name": "stdout",
     "output_type": "stream",
     "text": [
      "Avereage Treatment Effect with T-Learner using XGBClassifer\n",
      "\n",
      "Inflight_wifi_service : 0.14 (0.13, 0.14)\n",
      "Departure/Arrival_time_convenient : -0.07 (-0.08, -0.07)\n",
      "Ease_of_Online_booking : -0.02 (-0.03, -0.02)\n",
      "Gate_location : -0.16 (-0.17, -0.15)\n",
      "Food_and_drink : 0.03 (0.02, 0.03)\n",
      "Online_boarding : 0.27 (0.27, 0.28)\n",
      "Seat_comfort : 0.07 (0.07, 0.08)\n",
      "Inflight_entertainment : 0.04 (0.04, 0.05)\n",
      "On-board_service : 0.10 (0.10, 0.11)\n",
      "Leg_room_service : 0.19 (0.18, 0.19)\n",
      "Baggage_handling : 0.06 (0.06, 0.07)\n",
      "Checkin_service : 0.03 (0.03, 0.04)\n",
      "Inflight_service : 0.07 (0.07, 0.08)\n",
      "Cleanliness : 0.06 (0.06, 0.07)\n"
     ]
    }
   ],
   "source": [
    "#  using XGBCLassifier\n",
    "t_learner = BaseTClassifier(XGBClassifier(random_state=42))\n",
    "T_ATE_XGB = []\n",
    "print('Avereage Treatment Effect with T-Learner using XGBClassifer\\n')\n",
    "\n",
    "y_c = X_train['satisfaction']\n",
    "for c in col_names:\n",
    "    treatment = X_train[c]\n",
    "    X_c = X_train.drop(columns={c,'satisfaction'})\n",
    "\n",
    "    ate, lb, ub = t_learner.estimate_ate(X=X_c, treatment=treatment, y=y_c)\n",
    "    T_ATE_XGB.append(ate[0])\n",
    "    print(c,': {:.2f} ({:.2f}, {:.2f})'.format(ate[0],lb[0], ub[0]))\n"
   ]
  },
  {
   "cell_type": "code",
   "execution_count": 122,
   "metadata": {},
   "outputs": [
    {
     "name": "stdout",
     "output_type": "stream",
     "text": [
      "Avereage Treatment Effect with T-Learner using LGBMClassifer\n",
      "\n",
      "Inflight_wifi_service : 0.14 (0.13, 0.15)\n",
      "Departure/Arrival_time_convenient : -0.08 (-0.08, -0.07)\n",
      "Ease_of_Online_booking : -0.03 (-0.03, -0.02)\n",
      "Gate_location : -0.15 (-0.16, -0.14)\n",
      "Food_and_drink : 0.01 (0.01, 0.02)\n",
      "Online_boarding : 0.28 (0.27, 0.28)\n",
      "Seat_comfort : 0.08 (0.07, 0.08)\n",
      "Inflight_entertainment : 0.05 (0.04, 0.05)\n",
      "On-board_service : 0.05 (0.05, 0.06)\n",
      "Leg_room_service : 0.20 (0.19, 0.21)\n",
      "Baggage_handling : 0.06 (0.06, 0.07)\n",
      "Checkin_service : 0.03 (0.03, 0.04)\n",
      "Inflight_service : 0.09 (0.08, 0.09)\n",
      "Cleanliness : 0.07 (0.06, 0.07)\n"
     ]
    }
   ],
   "source": [
    "#  using LGBMCLassifier\n",
    "t_learner = BaseTClassifier(LGBMClassifier(random_state=42))\n",
    "T_ATE_LGBM = []\n",
    "print('Avereage Treatment Effect with T-Learner using LGBMClassifer\\n')\n",
    "\n",
    "y_c = X_train['satisfaction']\n",
    "for c in col_names:\n",
    "    treatment = X_train[c]\n",
    "    X_c = X_train.drop(columns={c,'satisfaction'})\n",
    "\n",
    "    ate, lb, ub = t_learner.estimate_ate(X=X_c, treatment=treatment, y=y_c)\n",
    "    T_ATE_LGBM.append(ate[0])\n",
    "    print(c,': {:.2f} ({:.2f}, {:.2f})'.format(ate[0],lb[0], ub[0]))\n"
   ]
  },
  {
   "attachments": {},
   "cell_type": "markdown",
   "metadata": {},
   "source": [
    "# X-Learner"
   ]
  },
  {
   "cell_type": "code",
   "execution_count": 161,
   "metadata": {},
   "outputs": [
    {
     "name": "stdout",
     "output_type": "stream",
     "text": [
      "Avereage Treatment Effect with X-Learner using XGBClassifer\n",
      "\n",
      "Inflight_wifi_service : 0.16 (0.15, 0.17)\n",
      "Departure/Arrival_time_convenient : -0.07 (-0.07, -0.06)\n",
      "Ease_of_Online_booking : -0.03 (-0.04, -0.03)\n",
      "Gate_location : -0.16 (-0.16, -0.15)\n",
      "Food_and_drink : 0.05 (0.05, 0.06)\n",
      "Online_boarding : 0.28 (0.27, 0.28)\n",
      "Seat_comfort : 0.07 (0.07, 0.08)\n",
      "Inflight_entertainment : 0.07 (0.07, 0.08)\n",
      "On-board_service : 0.09 (0.09, 0.10)\n",
      "Leg_room_service : 0.18 (0.18, 0.19)\n",
      "Baggage_handling : 0.06 (0.05, 0.06)\n",
      "Checkin_service : 0.03 (0.03, 0.03)\n",
      "Inflight_service : 0.08 (0.08, 0.09)\n",
      "Cleanliness : 0.03 (0.02, 0.03)\n"
     ]
    }
   ],
   "source": [
    "# using LGBMCLassifier\n",
    "x_learner = BaseXClassifier(outcome_learner=XGBClassifier(),\n",
    "                            control_outcome_learner=XGBClassifier(),\n",
    "                            treatment_outcome_learner=XGBClassifier(),\n",
    "                            control_effect_learner=XGBRegressor(),\n",
    "                            treatment_effect_learner=XGBRegressor())\n",
    "X_ATE_XGB = []\n",
    "print('Avereage Treatment Effect with X-Learner using XGBClassifer\\n')\n",
    "\n",
    "y_c = X_train['satisfaction']\n",
    "for c in col_names:\n",
    "    treatment = X_train[c]\n",
    "    X_c = X_train.drop(columns={c,'satisfaction'})\n",
    "\n",
    "    ate, lb, ub = x_learner.estimate_ate(X=X_c, treatment=treatment, y=y_c)\n",
    "    X_ATE_XGB.append(ate[0])\n",
    "    print(c,': {:.2f} ({:.2f}, {:.2f})'.format(ate[0],lb[0], ub[0]))\n"
   ]
  },
  {
   "cell_type": "code",
   "execution_count": 162,
   "metadata": {},
   "outputs": [
    {
     "name": "stdout",
     "output_type": "stream",
     "text": [
      "Avereage Treatment Effect with X-Learner using LGBMClassifer\n",
      "\n",
      "Inflight_wifi_service : 0.13 (0.12, 0.14)\n",
      "Departure/Arrival_time_convenient : -0.08 (-0.08, -0.07)\n",
      "Ease_of_Online_booking : -0.06 (-0.06, -0.05)\n",
      "Gate_location : -0.08 (-0.09, -0.08)\n",
      "Food_and_drink : 0.02 (0.01, 0.02)\n",
      "Online_boarding : 0.26 (0.25, 0.26)\n",
      "Seat_comfort : 0.07 (0.07, 0.08)\n",
      "Inflight_entertainment : 0.10 (0.09, 0.10)\n",
      "On-board_service : 0.06 (0.06, 0.07)\n",
      "Leg_room_service : 0.19 (0.19, 0.20)\n",
      "Baggage_handling : 0.07 (0.06, 0.08)\n",
      "Checkin_service : 0.03 (0.03, 0.04)\n",
      "Inflight_service : 0.08 (0.08, 0.09)\n",
      "Cleanliness : 0.06 (0.06, 0.07)\n"
     ]
    }
   ],
   "source": [
    "# using LGBMCLassifier\n",
    "x_learner = BaseXClassifier(outcome_learner=LGBMClassifier(),\n",
    "                            control_outcome_learner=LGBMClassifier(),\n",
    "                            treatment_outcome_learner=LGBMClassifier(),\n",
    "                            control_effect_learner=LGBMRegressor(),\n",
    "                            treatment_effect_learner=LGBMRegressor())\n",
    "X_ATE_LGBM = []\n",
    "print('Avereage Treatment Effect with X-Learner using LGBMClassifer\\n')\n",
    "\n",
    "y_c = X_train['satisfaction']\n",
    "for c in col_names:\n",
    "    treatment = X_train[c]\n",
    "    X_c = X_train.drop(columns={c,'satisfaction'})\n",
    "\n",
    "    ate, lb, ub = x_learner.estimate_ate(X=X_c, treatment=treatment, y=y_c)\n",
    "    X_ATE_LGBM.append(ate[0])\n",
    "    print(c,': {:.2f} ({:.2f}, {:.2f})'.format(ate[0],lb[0], ub[0]))\n"
   ]
  },
  {
   "attachments": {},
   "cell_type": "markdown",
   "metadata": {},
   "source": [
    "Combine all results for comparison"
   ]
  },
  {
   "cell_type": "code",
   "execution_count": 163,
   "metadata": {},
   "outputs": [],
   "source": [
    "df_causal_result = pd.DataFrame.from_dict(\n",
    "    {\n",
    "        #'Treatment':col_names,\n",
    "        'S_XGB': S_ATE_XGB,\n",
    "        'S_LGBM': S_ATE_LGBM,\n",
    "        'T_XGB': T_ATE_XGB,\n",
    "        'T_LGBM': T_ATE_LGBM,\n",
    "        'X_XGB': X_ATE_XGB,\n",
    "        'X_LGBM': X_ATE_LGBM\n",
    "    }\n",
    ")\n",
    "\n",
    "df_causal_result = df_causal_result.set_index(col_names)"
   ]
  },
  {
   "cell_type": "code",
   "execution_count": 164,
   "metadata": {},
   "outputs": [
    {
     "data": {
      "text/html": [
       "<div>\n",
       "<style scoped>\n",
       "    .dataframe tbody tr th:only-of-type {\n",
       "        vertical-align: middle;\n",
       "    }\n",
       "\n",
       "    .dataframe tbody tr th {\n",
       "        vertical-align: top;\n",
       "    }\n",
       "\n",
       "    .dataframe thead th {\n",
       "        text-align: right;\n",
       "    }\n",
       "</style>\n",
       "<table border=\"1\" class=\"dataframe\">\n",
       "  <thead>\n",
       "    <tr style=\"text-align: right;\">\n",
       "      <th></th>\n",
       "      <th>S_XGB</th>\n",
       "      <th>S_LGBM</th>\n",
       "      <th>T_XGB</th>\n",
       "      <th>T_LGBM</th>\n",
       "      <th>X_XGB</th>\n",
       "      <th>X_LGBM</th>\n",
       "    </tr>\n",
       "  </thead>\n",
       "  <tbody>\n",
       "    <tr>\n",
       "      <th>Online_boarding</th>\n",
       "      <td>0.258802</td>\n",
       "      <td>0.258016</td>\n",
       "      <td>0.271282</td>\n",
       "      <td>0.275503</td>\n",
       "      <td>0.278783</td>\n",
       "      <td>0.257628</td>\n",
       "    </tr>\n",
       "    <tr>\n",
       "      <th>Leg_room_service</th>\n",
       "      <td>0.186065</td>\n",
       "      <td>0.186754</td>\n",
       "      <td>0.186462</td>\n",
       "      <td>0.200307</td>\n",
       "      <td>0.182332</td>\n",
       "      <td>0.194893</td>\n",
       "    </tr>\n",
       "    <tr>\n",
       "      <th>Inflight_wifi_service</th>\n",
       "      <td>0.135552</td>\n",
       "      <td>0.124671</td>\n",
       "      <td>0.136079</td>\n",
       "      <td>0.139548</td>\n",
       "      <td>0.163139</td>\n",
       "      <td>0.130431</td>\n",
       "    </tr>\n",
       "    <tr>\n",
       "      <th>Seat_comfort</th>\n",
       "      <td>0.068309</td>\n",
       "      <td>0.071497</td>\n",
       "      <td>0.074150</td>\n",
       "      <td>0.077359</td>\n",
       "      <td>0.070638</td>\n",
       "      <td>0.072008</td>\n",
       "    </tr>\n",
       "    <tr>\n",
       "      <th>Inflight_service</th>\n",
       "      <td>0.067779</td>\n",
       "      <td>0.054140</td>\n",
       "      <td>0.074421</td>\n",
       "      <td>0.085553</td>\n",
       "      <td>0.082518</td>\n",
       "      <td>0.082022</td>\n",
       "    </tr>\n",
       "    <tr>\n",
       "      <th>Baggage_handling</th>\n",
       "      <td>0.055244</td>\n",
       "      <td>0.050394</td>\n",
       "      <td>0.063791</td>\n",
       "      <td>0.063302</td>\n",
       "      <td>0.057744</td>\n",
       "      <td>0.069950</td>\n",
       "    </tr>\n",
       "    <tr>\n",
       "      <th>On-board_service</th>\n",
       "      <td>0.041960</td>\n",
       "      <td>0.041370</td>\n",
       "      <td>0.100989</td>\n",
       "      <td>0.050939</td>\n",
       "      <td>0.090946</td>\n",
       "      <td>0.064237</td>\n",
       "    </tr>\n",
       "    <tr>\n",
       "      <th>Inflight_entertainment</th>\n",
       "      <td>0.040840</td>\n",
       "      <td>0.029861</td>\n",
       "      <td>0.042522</td>\n",
       "      <td>0.049393</td>\n",
       "      <td>0.071396</td>\n",
       "      <td>0.095345</td>\n",
       "    </tr>\n",
       "    <tr>\n",
       "      <th>Cleanliness</th>\n",
       "      <td>0.038111</td>\n",
       "      <td>0.031009</td>\n",
       "      <td>0.062200</td>\n",
       "      <td>0.069225</td>\n",
       "      <td>0.029397</td>\n",
       "      <td>0.063406</td>\n",
       "    </tr>\n",
       "    <tr>\n",
       "      <th>Checkin_service</th>\n",
       "      <td>0.030684</td>\n",
       "      <td>0.031199</td>\n",
       "      <td>0.031357</td>\n",
       "      <td>0.032203</td>\n",
       "      <td>0.030804</td>\n",
       "      <td>0.031599</td>\n",
       "    </tr>\n",
       "    <tr>\n",
       "      <th>Gate_location</th>\n",
       "      <td>0.030581</td>\n",
       "      <td>0.052548</td>\n",
       "      <td>-0.159154</td>\n",
       "      <td>-0.152259</td>\n",
       "      <td>-0.155415</td>\n",
       "      <td>-0.083799</td>\n",
       "    </tr>\n",
       "    <tr>\n",
       "      <th>Food_and_drink</th>\n",
       "      <td>0.023201</td>\n",
       "      <td>-0.001965</td>\n",
       "      <td>0.026164</td>\n",
       "      <td>0.013280</td>\n",
       "      <td>0.050217</td>\n",
       "      <td>0.016341</td>\n",
       "    </tr>\n",
       "    <tr>\n",
       "      <th>Ease_of_Online_booking</th>\n",
       "      <td>-0.032918</td>\n",
       "      <td>-0.029212</td>\n",
       "      <td>-0.024577</td>\n",
       "      <td>-0.025085</td>\n",
       "      <td>-0.031193</td>\n",
       "      <td>-0.059150</td>\n",
       "    </tr>\n",
       "    <tr>\n",
       "      <th>Departure/Arrival_time_convenient</th>\n",
       "      <td>-0.073726</td>\n",
       "      <td>-0.081863</td>\n",
       "      <td>-0.074824</td>\n",
       "      <td>-0.078834</td>\n",
       "      <td>-0.068131</td>\n",
       "      <td>-0.078510</td>\n",
       "    </tr>\n",
       "  </tbody>\n",
       "</table>\n",
       "</div>"
      ],
      "text/plain": [
       "                                      S_XGB    S_LGBM     T_XGB    T_LGBM  \\\n",
       "Online_boarding                    0.258802  0.258016  0.271282  0.275503   \n",
       "Leg_room_service                   0.186065  0.186754  0.186462  0.200307   \n",
       "Inflight_wifi_service              0.135552  0.124671  0.136079  0.139548   \n",
       "Seat_comfort                       0.068309  0.071497  0.074150  0.077359   \n",
       "Inflight_service                   0.067779  0.054140  0.074421  0.085553   \n",
       "Baggage_handling                   0.055244  0.050394  0.063791  0.063302   \n",
       "On-board_service                   0.041960  0.041370  0.100989  0.050939   \n",
       "Inflight_entertainment             0.040840  0.029861  0.042522  0.049393   \n",
       "Cleanliness                        0.038111  0.031009  0.062200  0.069225   \n",
       "Checkin_service                    0.030684  0.031199  0.031357  0.032203   \n",
       "Gate_location                      0.030581  0.052548 -0.159154 -0.152259   \n",
       "Food_and_drink                     0.023201 -0.001965  0.026164  0.013280   \n",
       "Ease_of_Online_booking            -0.032918 -0.029212 -0.024577 -0.025085   \n",
       "Departure/Arrival_time_convenient -0.073726 -0.081863 -0.074824 -0.078834   \n",
       "\n",
       "                                      X_XGB    X_LGBM  \n",
       "Online_boarding                    0.278783  0.257628  \n",
       "Leg_room_service                   0.182332  0.194893  \n",
       "Inflight_wifi_service              0.163139  0.130431  \n",
       "Seat_comfort                       0.070638  0.072008  \n",
       "Inflight_service                   0.082518  0.082022  \n",
       "Baggage_handling                   0.057744  0.069950  \n",
       "On-board_service                   0.090946  0.064237  \n",
       "Inflight_entertainment             0.071396  0.095345  \n",
       "Cleanliness                        0.029397  0.063406  \n",
       "Checkin_service                    0.030804  0.031599  \n",
       "Gate_location                     -0.155415 -0.083799  \n",
       "Food_and_drink                     0.050217  0.016341  \n",
       "Ease_of_Online_booking            -0.031193 -0.059150  \n",
       "Departure/Arrival_time_convenient -0.068131 -0.078510  "
      ]
     },
     "execution_count": 164,
     "metadata": {},
     "output_type": "execute_result"
    }
   ],
   "source": [
    "df_causal_result.sort_values(by='S_XGB', ascending=False)"
   ]
  },
  {
   "attachments": {},
   "cell_type": "markdown",
   "metadata": {},
   "source": [
    "The learners' results are nearly identical, with Online_boarding showing the greatest ATE, trailed by Leg_room_service and Inflight_wifi_service. To boost customer satisfaction, the airline ought to concentrate on enhancing their performance in these areas of service."
   ]
  }
 ],
 "metadata": {
  "kernelspec": {
   "display_name": "Python 3",
   "language": "python",
   "name": "python3"
  },
  "language_info": {
   "codemirror_mode": {
    "name": "ipython",
    "version": 3
   },
   "file_extension": ".py",
   "mimetype": "text/x-python",
   "name": "python",
   "nbconvert_exporter": "python",
   "pygments_lexer": "ipython3",
   "version": "3.10.10"
  },
  "orig_nbformat": 4,
  "vscode": {
   "interpreter": {
    "hash": "eb8d3085d426e5e8dee3252ffbadecffc2a8c816985f9d79249a1de42c265c0a"
   }
  }
 },
 "nbformat": 4,
 "nbformat_minor": 2
}
